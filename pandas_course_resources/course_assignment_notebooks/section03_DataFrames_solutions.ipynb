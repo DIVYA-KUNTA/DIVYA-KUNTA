{
 "cells": [
  {
   "cell_type": "code",
   "execution_count": 0,
   "metadata": {
    "application/vnd.databricks.v1+cell": {
     "cellMetadata": {},
     "inputWidgets": {},
     "nuid": "15a43495-9d91-4c05-8de8-12a7e6d38b94",
     "showTitle": false,
     "tableResultSettingsMap": {},
     "title": ""
    }
   },
   "outputs": [],
   "source": [
    "import pandas as pd\n",
    "import numpy as np"
   ]
  },
  {
   "cell_type": "markdown",
   "metadata": {
    "application/vnd.databricks.v1+cell": {
     "cellMetadata": {},
     "inputWidgets": {},
     "nuid": "aa448d86-249b-47af-b4c1-cfda8a4ca585",
     "showTitle": false,
     "tableResultSettingsMap": {},
     "title": ""
    }
   },
   "source": [
    "# Assignment 1: DataFrame Basics\n",
    "\n",
    "Hi there!\n",
    "\n",
    "Can you read in the transactions dataset and report on:\n",
    "\n",
    "* The number of rows and columns\n",
    "* The names of the columns\n",
    "* The datatypes of each column"
   ]
  },
  {
   "cell_type": "code",
   "execution_count": 0,
   "metadata": {
    "application/vnd.databricks.v1+cell": {
     "cellMetadata": {},
     "inputWidgets": {},
     "nuid": "caf09311-c130-4df2-917b-f04dd9e1d18f",
     "showTitle": false,
     "tableResultSettingsMap": {},
     "title": ""
    }
   },
   "outputs": [],
   "source": [
    "# A common practice is to create a path variable to pass to read_csv\n",
    "path = \"../retail/transactions.csv\"\n",
    "\n",
    "# read in trasactions csv and create DataFrame\n",
    "transactions = pd.read_csv(path)\n",
    "\n",
    "# return DataFrame (df)\n",
    "transactions"
   ]
  },
  {
   "cell_type": "code",
   "execution_count": 0,
   "metadata": {
    "application/vnd.databricks.v1+cell": {
     "cellMetadata": {},
     "inputWidgets": {},
     "nuid": "f36e25ca-4583-4e08-8e93-01c622b0557e",
     "showTitle": false,
     "tableResultSettingsMap": {},
     "title": ""
    }
   },
   "outputs": [],
   "source": [
    "# shape of df: 84388 rows, 3 columns (not including index)\n",
    "transactions.shape"
   ]
  },
  {
   "cell_type": "code",
   "execution_count": 0,
   "metadata": {
    "application/vnd.databricks.v1+cell": {
     "cellMetadata": {},
     "inputWidgets": {},
     "nuid": "dd2d11a8-89a6-4813-8915-86c9667ab9d2",
     "showTitle": false,
     "tableResultSettingsMap": {},
     "title": ""
    }
   },
   "outputs": [],
   "source": [
    "# shape of df: 84388 rows. Add 1 to max default index value to get row count\n",
    "transactions.index.max() + 1"
   ]
  },
  {
   "cell_type": "code",
   "execution_count": 0,
   "metadata": {
    "application/vnd.databricks.v1+cell": {
     "cellMetadata": {},
     "inputWidgets": {},
     "nuid": "556e4439-0937-4ef4-a888-cecede953549",
     "showTitle": false,
     "tableResultSettingsMap": {},
     "title": ""
    }
   },
   "outputs": [],
   "source": [
    "# dtypes attribute returns column names and their data types\n",
    "transactions.dtypes"
   ]
  },
  {
   "cell_type": "markdown",
   "metadata": {
    "application/vnd.databricks.v1+cell": {
     "cellMetadata": {},
     "inputWidgets": {},
     "nuid": "8071e0d6-e2fe-4679-9aec-d6b098321ff9",
     "showTitle": false,
     "tableResultSettingsMap": {},
     "title": ""
    }
   },
   "source": [
    "# Assignment 2: Exploring DataFrames\n",
    "\n",
    "Hello!\n",
    "\n",
    "* Can you quickly inspect the first 5 rows of the transactions data? \n",
    "\n",
    "* Then, dive a bit more deeply into the data and check if there are any missing values.\n",
    "* What about the number of unique dates? I want to make sure we didn’t leave any out.\n",
    "* Finally, can you report the mean, median, min and max of “transactions”?  I want to check for any anomalies in our data.\n"
   ]
  },
  {
   "cell_type": "code",
   "execution_count": 0,
   "metadata": {
    "application/vnd.databricks.v1+cell": {
     "cellMetadata": {},
     "inputWidgets": {},
     "nuid": "0343e89c-ec57-49da-b5bc-c1c5807916c5",
     "showTitle": false,
     "tableResultSettingsMap": {},
     "title": ""
    }
   },
   "outputs": [],
   "source": [
    "# Look at top 5 rows with .head()\n",
    "transactions.head()"
   ]
  },
  {
   "cell_type": "code",
   "execution_count": 0,
   "metadata": {
    "application/vnd.databricks.v1+cell": {
     "cellMetadata": {},
     "inputWidgets": {},
     "nuid": "3b3c42dd-b915-4464-b5cb-3f6234605c8d",
     "showTitle": false,
     "tableResultSettingsMap": {},
     "title": ""
    }
   },
   "outputs": [],
   "source": [
    "# use .isna().sum() on df to get missing counts for all columns\n",
    "\n",
    "transactions.isna().sum()"
   ]
  },
  {
   "cell_type": "code",
   "execution_count": 0,
   "metadata": {
    "application/vnd.databricks.v1+cell": {
     "cellMetadata": {},
     "inputWidgets": {},
     "nuid": "7c46c391-328e-430f-8a67-d79342097bb1",
     "showTitle": false,
     "tableResultSettingsMap": {},
     "title": ""
    }
   },
   "outputs": [],
   "source": [
    "# Use info to determine missing counts - none are missing!\n",
    "transactions.info()"
   ]
  },
  {
   "cell_type": "code",
   "execution_count": 0,
   "metadata": {
    "application/vnd.databricks.v1+cell": {
     "cellMetadata": {},
     "inputWidgets": {},
     "nuid": "878acd91-ebc5-4543-8c29-df886ccda237",
     "showTitle": false,
     "tableResultSettingsMap": {},
     "title": ""
    }
   },
   "outputs": [],
   "source": [
    "# Use describe to return the specified aggregations (and more!)\n",
    "transactions.describe()"
   ]
  },
  {
   "cell_type": "code",
   "execution_count": 0,
   "metadata": {
    "application/vnd.databricks.v1+cell": {
     "cellMetadata": {},
     "inputWidgets": {},
     "nuid": "be7c5ab5-c3fd-45e6-8571-ed2486caca17",
     "showTitle": false,
     "tableResultSettingsMap": {},
     "title": ""
    }
   },
   "outputs": [],
   "source": [
    "# Method 1 for unique dates - once you know how to access columns :D\n",
    "transactions[\"date\"].nunique()"
   ]
  },
  {
   "cell_type": "code",
   "execution_count": 0,
   "metadata": {
    "application/vnd.databricks.v1+cell": {
     "cellMetadata": {},
     "inputWidgets": {},
     "nuid": "1535a2bd-97f8-424e-8815-c98af724a88d",
     "showTitle": false,
     "tableResultSettingsMap": {},
     "title": ""
    }
   },
   "outputs": [],
   "source": [
    "# Method 2 for unique dates - speecify include=\"all\" to get stats on text columns.\n",
    "\n",
    "transactions.describe(include=\"all\")"
   ]
  },
  {
   "cell_type": "markdown",
   "metadata": {
    "application/vnd.databricks.v1+cell": {
     "cellMetadata": {},
     "inputWidgets": {},
     "nuid": "14f1d558-0d5f-4980-bc4e-74464d53ee81",
     "showTitle": false,
     "tableResultSettingsMap": {},
     "title": ""
    }
   },
   "source": [
    "# Exercise 3 - Accessing DataFrames\n",
    "\n",
    "Hi, starting to dive deeper into this data.\n",
    "\n",
    "I noticed that the first row is the only one from 2013-01-01.\n",
    "\n",
    "* Can you get me a copy of the DataFrame that excludes that row, and only includes “store_nbr” and “transactions”?\n",
    "* Also, can you report the number of unique store numbers?\n",
    "* Finally, return the total number of transactions in millions\n"
   ]
  },
  {
   "cell_type": "code",
   "execution_count": 0,
   "metadata": {
    "application/vnd.databricks.v1+cell": {
     "cellMetadata": {},
     "inputWidgets": {},
     "nuid": "61e68870-f2cf-4ac3-bae4-3075115c73b7",
     "showTitle": false,
     "tableResultSettingsMap": {},
     "title": ""
    }
   },
   "outputs": [],
   "source": [
    "transactions.head()"
   ]
  },
  {
   "cell_type": "code",
   "execution_count": 0,
   "metadata": {
    "application/vnd.databricks.v1+cell": {
     "cellMetadata": {},
     "inputWidgets": {},
     "nuid": "f773f933-5fe2-41fb-85ec-d56c30799997",
     "showTitle": false,
     "tableResultSettingsMap": {},
     "title": ""
    }
   },
   "outputs": [],
   "source": [
    "# skip the first row via slicing\n",
    "\n",
    "transactions.loc[1:, \"store_nbr\":\"transactions\"]"
   ]
  },
  {
   "cell_type": "code",
   "execution_count": 0,
   "metadata": {
    "application/vnd.databricks.v1+cell": {
     "cellMetadata": {},
     "inputWidgets": {},
     "nuid": "b39e7000-13dc-47af-9fea-f0255fa54c6c",
     "showTitle": false,
     "tableResultSettingsMap": {},
     "title": ""
    }
   },
   "outputs": [],
   "source": [
    "# calculate sum of store number column\n",
    "\n",
    "transactions.loc[:, \"store_nbr\"].nunique()"
   ]
  },
  {
   "cell_type": "code",
   "execution_count": 0,
   "metadata": {
    "application/vnd.databricks.v1+cell": {
     "cellMetadata": {},
     "inputWidgets": {},
     "nuid": "902644d2-90ac-43d2-b7c8-34fb0452c31c",
     "showTitle": false,
     "tableResultSettingsMap": {},
     "title": ""
    }
   },
   "outputs": [],
   "source": [
    "# Divide sum of transactions by millions to get in units of millions\n",
    "\n",
    "transactions.loc[:, \"transactions\"].sum() / 1000000"
   ]
  },
  {
   "cell_type": "markdown",
   "metadata": {
    "application/vnd.databricks.v1+cell": {
     "cellMetadata": {},
     "inputWidgets": {},
     "nuid": "4e7bc712-2caf-4f76-906e-6d2d9b5419d7",
     "showTitle": false,
     "tableResultSettingsMap": {},
     "title": ""
    }
   },
   "source": [
    "# Assignment 4: Dropping Data and Duplicates\n",
    "\n",
    "Hi there!\n",
    "\n",
    "Can you:\n",
    "\n",
    "1. Drop the first row of data? We want it permanently removed. \n",
    "2. Drop the date column but not in place\n",
    "3. Return a dataframe that only includes the last row for each of the stores.\n",
    "\n",
    "Thanks!"
   ]
  },
  {
   "cell_type": "code",
   "execution_count": 0,
   "metadata": {
    "application/vnd.databricks.v1+cell": {
     "cellMetadata": {},
     "inputWidgets": {},
     "nuid": "f1394de1-0db5-4677-b5ef-7c6fd0d698f7",
     "showTitle": false,
     "tableResultSettingsMap": {},
     "title": ""
    }
   },
   "outputs": [],
   "source": [
    "transactions.head()"
   ]
  },
  {
   "cell_type": "code",
   "execution_count": 0,
   "metadata": {
    "application/vnd.databricks.v1+cell": {
     "cellMetadata": {},
     "inputWidgets": {},
     "nuid": "066a9c9e-e278-433e-b1c6-c93f81837eff",
     "showTitle": false,
     "tableResultSettingsMap": {},
     "title": ""
    }
   },
   "outputs": [],
   "source": [
    "# drop the first row of data in place\n",
    "\n",
    "transactions.drop(0, axis=0, inplace=True)\n",
    "\n",
    "transactions"
   ]
  },
  {
   "cell_type": "code",
   "execution_count": 0,
   "metadata": {
    "application/vnd.databricks.v1+cell": {
     "cellMetadata": {},
     "inputWidgets": {},
     "nuid": "af2bf333-e413-4db1-80ac-715466fb4afe",
     "showTitle": false,
     "tableResultSettingsMap": {},
     "title": ""
    }
   },
   "outputs": [],
   "source": [
    "# drop date but not in place\n",
    "\n",
    "transactions.drop(\"date\", axis=1)"
   ]
  },
  {
   "cell_type": "code",
   "execution_count": 0,
   "metadata": {
    "application/vnd.databricks.v1+cell": {
     "cellMetadata": {},
     "inputWidgets": {},
     "nuid": "4672d3e4-d7ab-4a5a-8444-3d38c7c0589e",
     "showTitle": false,
     "tableResultSettingsMap": {},
     "title": ""
    }
   },
   "outputs": [],
   "source": [
    "# drop duplicate rows subsetting by store number. keep last entry for each store\n",
    "\n",
    "transactions.drop_duplicates(subset=\"store_nbr\", keep=\"last\").head()"
   ]
  },
  {
   "cell_type": "markdown",
   "metadata": {
    "application/vnd.databricks.v1+cell": {
     "cellMetadata": {},
     "inputWidgets": {},
     "nuid": "35bf4c9d-9388-4aff-a5ed-ecd9216260c0",
     "showTitle": false,
     "tableResultSettingsMap": {},
     "title": ""
    }
   },
   "source": [
    "# Assignment 5: Missing Data\n",
    "\n",
    "Hello, \n",
    "\n",
    "Can you tell if any dates or prices are missing in the oil dataset?\n",
    "\n",
    "Then compare the mean of the oil series when filling in with mean vs. filling in with 0.\n",
    "\n",
    "Thanks!"
   ]
  },
  {
   "cell_type": "code",
   "execution_count": 0,
   "metadata": {
    "application/vnd.databricks.v1+cell": {
     "cellMetadata": {},
     "inputWidgets": {},
     "nuid": "5b174674-6ac0-434d-9494-bc22c1825a3a",
     "showTitle": false,
     "tableResultSettingsMap": {},
     "title": ""
    }
   },
   "outputs": [],
   "source": [
    "oil = pd.read_csv(\"../retail/oil.csv\")"
   ]
  },
  {
   "cell_type": "code",
   "execution_count": 0,
   "metadata": {
    "application/vnd.databricks.v1+cell": {
     "cellMetadata": {},
     "inputWidgets": {},
     "nuid": "049b3e06-0157-45be-87be-cc69ee43c0de",
     "showTitle": false,
     "tableResultSettingsMap": {},
     "title": ""
    }
   },
   "outputs": [],
   "source": [
    "# info can be used to infer missing counts 1218 - 1175 = 43\n",
    "\n",
    "oil.info()"
   ]
  },
  {
   "cell_type": "code",
   "execution_count": 0,
   "metadata": {
    "application/vnd.databricks.v1+cell": {
     "cellMetadata": {},
     "inputWidgets": {},
     "nuid": "3de8d5f9-97e5-4cf7-8e80-2f84122c14d9",
     "showTitle": false,
     "tableResultSettingsMap": {},
     "title": ""
    }
   },
   "outputs": [],
   "source": [
    "# But usually easier to use isna().sum() - let the computer count for you :D\n",
    "\n",
    "oil.isna().sum()"
   ]
  },
  {
   "cell_type": "code",
   "execution_count": 0,
   "metadata": {
    "application/vnd.databricks.v1+cell": {
     "cellMetadata": {},
     "inputWidgets": {},
     "nuid": "fb90f590-a930-4013-beb5-8997a0bab139",
     "showTitle": false,
     "tableResultSettingsMap": {},
     "title": ""
    }
   },
   "outputs": [],
   "source": [
    "# calculate mean of oil series after filling missing values with 0\n",
    "\n",
    "oil.loc[:, 'dcoilwtico'].fillna(0).mean()"
   ]
  },
  {
   "cell_type": "code",
   "execution_count": 0,
   "metadata": {
    "application/vnd.databricks.v1+cell": {
     "cellMetadata": {},
     "inputWidgets": {},
     "nuid": "77a2a4e8-85ff-4454-b990-40d02ebc06c6",
     "showTitle": false,
     "tableResultSettingsMap": {},
     "title": ""
    }
   },
   "outputs": [],
   "source": [
    "# calculate mean of oil series after filling missing values with the mean of oil price\n",
    "\n",
    "oil.loc[:, 'dcoilwtico'].fillna(oil.loc[:, 'dcoilwtico'].mean()).mean()"
   ]
  },
  {
   "cell_type": "markdown",
   "metadata": {
    "application/vnd.databricks.v1+cell": {
     "cellMetadata": {},
     "inputWidgets": {},
     "nuid": "c07d6728-0414-47fb-a5d5-4afcb299db77",
     "showTitle": false,
     "tableResultSettingsMap": {},
     "title": ""
    }
   },
   "source": [
    "# Assignment 6: Filtering DataFrames\n",
    "\n",
    "I need some quick research on store 25:\n",
    "\n",
    "* First, calculate the percentage of times ALL stores had more than 2000 transactions\n",
    "* Then, calculate the percentage of times store 25 had more than 2000 transactions, and calculate the sum of transactions on these days\n",
    "* Finally, sum the transactions for stores 25 and 3, that occurred in May or June, and had less than 2000 transactions\n"
   ]
  },
  {
   "cell_type": "code",
   "execution_count": 0,
   "metadata": {
    "application/vnd.databricks.v1+cell": {
     "cellMetadata": {},
     "inputWidgets": {},
     "nuid": "60301f5d-8919-4e6a-8e2e-bdcdb9c9bc85",
     "showTitle": false,
     "tableResultSettingsMap": {},
     "title": ""
    }
   },
   "outputs": [],
   "source": [
    "transactions.head()"
   ]
  },
  {
   "cell_type": "code",
   "execution_count": 0,
   "metadata": {
    "application/vnd.databricks.v1+cell": {
     "cellMetadata": {},
     "inputWidgets": {},
     "nuid": "50c7ff19-f8ac-4afb-8515-220698d29aec",
     "showTitle": false,
     "tableResultSettingsMap": {},
     "title": ""
    }
   },
   "outputs": [],
   "source": [
    "# all stores > 2500 percentage occurence\n",
    "\n",
    "(transactions['transactions'] > 2000).mean()"
   ]
  },
  {
   "cell_type": "code",
   "execution_count": 0,
   "metadata": {
    "application/vnd.databricks.v1+cell": {
     "cellMetadata": {},
     "inputWidgets": {},
     "nuid": "34f55a0c-1bde-4146-9168-c2a0396b39af",
     "showTitle": false,
     "tableResultSettingsMap": {},
     "title": ""
    }
   },
   "outputs": [],
   "source": [
    "# Number of times store 25 had > 2000 divided by total days for store 25 to get percent of time it happened\n",
    "\n",
    "mask = (transactions['transactions'] > 2000) & (transactions['store_nbr'] == 25)\n",
    "\n",
    "(transactions.loc[mask, 'transactions'].count() \n",
    " / transactions.loc[(transactions['store_nbr'] == 25), 'transactions'].count())"
   ]
  },
  {
   "cell_type": "code",
   "execution_count": 0,
   "metadata": {
    "application/vnd.databricks.v1+cell": {
     "cellMetadata": {},
     "inputWidgets": {},
     "nuid": "0c739926-58f8-4bd7-ae4a-fdb109a974e0",
     "showTitle": false,
     "tableResultSettingsMap": {},
     "title": ""
    }
   },
   "outputs": [],
   "source": [
    "# Sum of transactions where store 25 had > 2000 transactions\n",
    "\n",
    "transactions.loc[mask, 'transactions'].sum()"
   ]
  },
  {
   "cell_type": "code",
   "execution_count": 0,
   "metadata": {
    "application/vnd.databricks.v1+cell": {
     "cellMetadata": {},
     "inputWidgets": {},
     "nuid": "8db1819a-15f4-4d7f-a1b1-7ed25da13361",
     "showTitle": false,
     "tableResultSettingsMap": {},
     "title": ""
    }
   },
   "outputs": [],
   "source": [
    "# sum of transactions for stores 25 and 31 in months May and June on days they had less than 2000 transactions\n",
    "\n",
    "(transactions.query(\n",
    "    \"store_nbr in [25, 31] & date.str[6] in ['5', '6'] & transactions < 2000\")\n",
    " .loc[:, \"transactions\"]\n",
    " .sum())"
   ]
  },
  {
   "cell_type": "markdown",
   "metadata": {
    "application/vnd.databricks.v1+cell": {
     "cellMetadata": {},
     "inputWidgets": {},
     "nuid": "0c8e4555-ef1e-431d-8726-b2e86d84faff",
     "showTitle": false,
     "tableResultSettingsMap": {},
     "title": ""
    }
   },
   "source": [
    "# Assignment 7: Sorting DataFrames\n",
    "\n",
    "Hi there,\n",
    "* Can you get me a dataset that includes the 5 days with the highest transactions counts? Any similarities between them?\n",
    "* Then, can you get me a dataset sorted by date from earliest to most recent, but with the highest transactions first and the lowest transactions last for each day?\n",
    "* Finally, sort the columns in reverse alphabetical order. \n",
    "\n",
    "Thanks!\n"
   ]
  },
  {
   "cell_type": "code",
   "execution_count": 0,
   "metadata": {
    "application/vnd.databricks.v1+cell": {
     "cellMetadata": {},
     "inputWidgets": {},
     "nuid": "639f874d-e0d6-467f-9725-c906bbe2a2db",
     "showTitle": false,
     "tableResultSettingsMap": {},
     "title": ""
    }
   },
   "outputs": [],
   "source": [
    "transactions.head()"
   ]
  },
  {
   "cell_type": "code",
   "execution_count": 0,
   "metadata": {
    "application/vnd.databricks.v1+cell": {
     "cellMetadata": {},
     "inputWidgets": {},
     "nuid": "347ab709-e087-43da-84a9-8a2645bca02d",
     "showTitle": false,
     "tableResultSettingsMap": {},
     "title": ""
    }
   },
   "outputs": [],
   "source": [
    "# sort dataframe by values in transaction column in descending order (ascending = False)\n",
    "# then grab first 5 rows to retrieve 5 highest days\n",
    "\n",
    "transactions.sort_values('transactions', ascending=False).iloc[:5, :]"
   ]
  },
  {
   "cell_type": "code",
   "execution_count": 0,
   "metadata": {
    "application/vnd.databricks.v1+cell": {
     "cellMetadata": {},
     "inputWidgets": {},
     "nuid": "ad9b8ddb-401a-45af-b826-1bebc23be10e",
     "showTitle": false,
     "tableResultSettingsMap": {},
     "title": ""
    }
   },
   "outputs": [],
   "source": [
    "# Sort dataframe by date in ascending order, and trasactions in descending order\n",
    "\n",
    "transactions.sort_values(['date', 'transactions'], ascending=[True, False])"
   ]
  },
  {
   "cell_type": "code",
   "execution_count": 0,
   "metadata": {
    "application/vnd.databricks.v1+cell": {
     "cellMetadata": {},
     "inputWidgets": {},
     "nuid": "ebacb02e-9871-4f13-8522-92f68b11000a",
     "showTitle": false,
     "tableResultSettingsMap": {},
     "title": ""
    }
   },
   "outputs": [],
   "source": [
    "# sort columns in reverse alphabetical order using sort_index on the column axis (1), in descending order\n",
    "\n",
    "transactions.sort_index(axis=1, ascending=False)"
   ]
  },
  {
   "cell_type": "markdown",
   "metadata": {
    "application/vnd.databricks.v1+cell": {
     "cellMetadata": {},
     "inputWidgets": {},
     "nuid": "5294ca79-3146-4f24-b45d-f1eb6acab9aa",
     "showTitle": false,
     "tableResultSettingsMap": {},
     "title": ""
    }
   },
   "source": [
    "# Assignment 8: Modifying Columns\n",
    "\n",
    "Just some quick work, but can you send me the transaction data with the columns renamed?\n",
    "\n",
    "* Rename `transactions` to `transaction_count` and `store_nbr` to `store_number`.\n",
    "* Reorder the columns so date is first, then store number, then transaction count.\n",
    "\n",
    "Thanks!\n"
   ]
  },
  {
   "cell_type": "code",
   "execution_count": 0,
   "metadata": {
    "application/vnd.databricks.v1+cell": {
     "cellMetadata": {},
     "inputWidgets": {},
     "nuid": "46c7145f-60f0-4fcd-8f4f-85be3e215263",
     "showTitle": false,
     "tableResultSettingsMap": {},
     "title": ""
    }
   },
   "outputs": [],
   "source": [
    "transactions.head()"
   ]
  },
  {
   "cell_type": "code",
   "execution_count": 0,
   "metadata": {
    "application/vnd.databricks.v1+cell": {
     "cellMetadata": {},
     "inputWidgets": {},
     "nuid": "422a41ce-cc4f-43e9-be9a-39e33854af8f",
     "showTitle": false,
     "tableResultSettingsMap": {},
     "title": ""
    }
   },
   "outputs": [],
   "source": [
    "# Use rename to change column names\n",
    "# Use reindex, axis=1, to reorder columns (this can also be done by assignment FYI)\n",
    "\n",
    "transactions =(transactions\n",
    " .rename(\n",
    "    columns={\"transactions\": \"transaction_count\", \"store_nbr\": \"store_number\"})\n",
    " .reindex(labels=[\"date\", \"transaction_count\", \"store_number\"], axis=1)\n",
    ")\n",
    "\n",
    "transactions.head()"
   ]
  },
  {
   "cell_type": "markdown",
   "metadata": {
    "application/vnd.databricks.v1+cell": {
     "cellMetadata": {},
     "inputWidgets": {},
     "nuid": "cb2ec5f6-2f92-430d-909f-435a522a2b44",
     "showTitle": false,
     "tableResultSettingsMap": {},
     "title": ""
    }
   },
   "source": [
    "# Assignment 9: Column Creation\n",
    "\n",
    "Just some quick work, but can you send me the transaction data with the columns renamed?\n",
    "\n",
    "* Create a `pct_to_target` column that divides transactions by 2500.\n",
    "* Then, create a `met_target` column that returns True if `pct_to_target` is greater than or equal to 1.\n",
    "* Next, create a `bonus_payable` column that equals 100 if `met_target` is True, and 0 if not. Then sum the bonus payable column.\n",
    "* Finally, create columns for month and day of week as integers. There is some helper code for these dateparts below.\n",
    "\n",
    "\n",
    "\n",
    "Thanks!\n",
    "\n"
   ]
  },
  {
   "cell_type": "code",
   "execution_count": 0,
   "metadata": {
    "application/vnd.databricks.v1+cell": {
     "cellMetadata": {},
     "inputWidgets": {},
     "nuid": "798fb310-1b84-497a-a0d0-a1085e3f9401",
     "showTitle": false,
     "tableResultSettingsMap": {},
     "title": ""
    }
   },
   "outputs": [],
   "source": [
    "transactions.head()"
   ]
  },
  {
   "cell_type": "code",
   "execution_count": 0,
   "metadata": {
    "application/vnd.databricks.v1+cell": {
     "cellMetadata": {},
     "inputWidgets": {},
     "nuid": "350f9526-032f-4f76-8622-23c5d7e7e428",
     "showTitle": false,
     "tableResultSettingsMap": {},
     "title": ""
    }
   },
   "outputs": [],
   "source": [
    "# target based columns\n",
    "transactions[\"pct_to_target\"] = transactions.loc[:, \"transaction_count\"] / 2500\n",
    "transactions[\"met_target\"] = transactions.loc[:, \"pct_to_target\"] >= 1\n",
    "transactions[\"bonus_payable\"] = 100 * transactions[\"met_target\"]\n",
    "\n",
    "# Date Columns\n",
    "transactions[\"date\"] = transactions[\"date\"].astype(\"Datetime64\")\n",
    "transactions[\"month\"] = transactions[\"date\"].dt.month\n",
    "transactions[\"day_of_week\"] = transactions[\"date\"].dt.dayofweek\n",
    "\n",
    "transactions.head()"
   ]
  },
  {
   "cell_type": "code",
   "execution_count": 0,
   "metadata": {
    "application/vnd.databricks.v1+cell": {
     "cellMetadata": {},
     "inputWidgets": {},
     "nuid": "00062059-3bde-4ea2-9972-004a012c61ba",
     "showTitle": false,
     "tableResultSettingsMap": {},
     "title": ""
    }
   },
   "outputs": [],
   "source": [
    "# Call sum on \"bonus_payable\" column to get total sum of bonus paid\n",
    "\n",
    "transactions.loc[:, \"bonus_payable\"].sum()"
   ]
  },
  {
   "cell_type": "markdown",
   "metadata": {
    "application/vnd.databricks.v1+cell": {
     "cellMetadata": {},
     "inputWidgets": {},
     "nuid": "ee8666de-c09b-4fe9-bd1d-09161c7f8c23",
     "showTitle": false,
     "tableResultSettingsMap": {},
     "title": ""
    }
   },
   "source": [
    "# Assignment 10: np.select\n",
    "\n",
    "Hi there! I need a few columns created.\n",
    "\n",
    "1. Create a ‘seasonal_bonus’ column that applies to these dates: \n",
    "    * All days in December (month = 12)\n",
    "    * Sundays (day_of_week = 6) in May (month = 5)\n",
    "    * Mondays (day_of_week = 0) in July (month = 7)\n",
    "2. Call the December bonus ‘Holiday Bonus’, the May bonus ‘Corporate Month’, and the July bonus ‘Summer Special’. If no bonus applies, the column should display ‘None’. \n",
    "3. Finally, calculate the total bonus owed at $100 per day.\n",
    "\n",
    "Thanks!"
   ]
  },
  {
   "cell_type": "code",
   "execution_count": 0,
   "metadata": {
    "application/vnd.databricks.v1+cell": {
     "cellMetadata": {},
     "inputWidgets": {},
     "nuid": "ba87ff30-ff72-4bea-a290-11aaf51c0ecb",
     "showTitle": false,
     "tableResultSettingsMap": {},
     "title": ""
    }
   },
   "outputs": [],
   "source": [
    "transactions.head()"
   ]
  },
  {
   "cell_type": "code",
   "execution_count": 0,
   "metadata": {
    "application/vnd.databricks.v1+cell": {
     "cellMetadata": {},
     "inputWidgets": {},
     "nuid": "43e8ff31-98f9-4d8b-876f-a895a945d43d",
     "showTitle": false,
     "tableResultSettingsMap": {},
     "title": ""
    }
   },
   "outputs": [],
   "source": [
    "# set up the three conditions\n",
    "conditions = [\n",
    "    transactions[\"month\"] == 12,\n",
    "    (transactions[\"month\"] == 5) & (transactions[\"day_of_week\"] == 6),\n",
    "    (transactions[\"month\"] == 7) & (transactions[\"day_of_week\"] == 0)\n",
    "]\n",
    "\n",
    "# specify outcomes for each condition\n",
    "choices = [\"Holiday Bonus\", \"Corporate Month\", \"Summer Special\"]\n",
    "\n",
    "# Call the select method, passing in conditions, choices, and a default value of 'None' if no condition met\n",
    "transactions[\"seasonal_bonus\"] = np.select(conditions, choices, default=\"None\")\n",
    "\n",
    "transactions.head()"
   ]
  },
  {
   "cell_type": "code",
   "execution_count": 0,
   "metadata": {
    "application/vnd.databricks.v1+cell": {
     "cellMetadata": {},
     "inputWidgets": {},
     "nuid": "ac696cf6-0b71-4a3f-8c5c-ade5f3c03736",
     "showTitle": false,
     "tableResultSettingsMap": {},
     "title": ""
    }
   },
   "outputs": [],
   "source": [
    "# look at frequency for each \n",
    "transactions[\"seasonal_bonus\"].value_counts()"
   ]
  },
  {
   "cell_type": "code",
   "execution_count": 0,
   "metadata": {
    "application/vnd.databricks.v1+cell": {
     "cellMetadata": {},
     "inputWidgets": {},
     "nuid": "851d166c-ff16-41a5-95b9-5b41e4e7d090",
     "showTitle": false,
     "tableResultSettingsMap": {},
     "title": ""
    }
   },
   "outputs": [],
   "source": [
    "# Use value counts to extract counts of each holiday, \n",
    "# slice the series returned by value counts, and sum relevant values before multiply by 100 to get bonus owed\n",
    "\n",
    "transactions.loc[:, \"seasonal_bonus\"].value_counts().iloc[1:].sum() * 100"
   ]
  },
  {
   "cell_type": "markdown",
   "metadata": {
    "application/vnd.databricks.v1+cell": {
     "cellMetadata": {},
     "inputWidgets": {},
     "nuid": "4a8dbbc4-3943-4eb7-b2e3-13c40191ffff",
     "showTitle": false,
     "tableResultSettingsMap": {},
     "title": ""
    }
   },
   "source": [
    "# Assignment 11: Assign \n",
    "\n",
    "* Drop the columns that have been created so far (keep only date, store_number, and transaction count), and recreate them using the assign method.\n",
    "* Then sum the seasonal bonus owed once again to make sure the numbers are correct.\n"
   ]
  },
  {
   "cell_type": "code",
   "execution_count": 0,
   "metadata": {
    "application/vnd.databricks.v1+cell": {
     "cellMetadata": {},
     "inputWidgets": {},
     "nuid": "37b2884f-6225-468c-8f12-de0aab11273a",
     "showTitle": false,
     "tableResultSettingsMap": {},
     "title": ""
    }
   },
   "outputs": [],
   "source": [
    "# Drop columns we created in prior exercises\n",
    "transactions = transactions.drop(\n",
    "    [\n",
    "        \"pct_to_target\",\n",
    "        \"met_target\",\n",
    "        \"bonus_payable\",\n",
    "        \"month\",\n",
    "        \"day_of_week\",\n",
    "        \"seasonal_bonus\",\n",
    "    ],\n",
    "    axis=1,\n",
    ")\n",
    "\n",
    "transactions.head()"
   ]
  },
  {
   "cell_type": "code",
   "execution_count": 0,
   "metadata": {
    "application/vnd.databricks.v1+cell": {
     "cellMetadata": {},
     "inputWidgets": {},
     "nuid": "5f5d482c-9156-4925-a1fd-a6e7fb0fe3df",
     "showTitle": false,
     "tableResultSettingsMap": {},
     "title": ""
    }
   },
   "outputs": [],
   "source": [
    "# Create same columns with assign\n",
    "\n",
    "transactions = transactions.assign(\n",
    "    target_pct = transactions[\"transaction_count\"] / 2500,\n",
    "    met_target = (transactions[\"transaction_count\"] / 2500) >= 1,\n",
    "    bonus_payable = ((transactions[\"transaction_count\"] / 2500) >= 1) * 100,\n",
    "    month = transactions.date.dt.month,\n",
    "    day_of_week = transactions.date.dt.dayofweek,\n",
    "    seasonal_bonus = np.select(conditions, choices, default=\"None\"),\n",
    ")\n",
    "\n"
   ]
  },
  {
   "cell_type": "code",
   "execution_count": 0,
   "metadata": {
    "application/vnd.databricks.v1+cell": {
     "cellMetadata": {},
     "inputWidgets": {},
     "nuid": "82a0bee6-86ca-4712-9cb0-f4ee3ad736ba",
     "showTitle": false,
     "tableResultSettingsMap": {},
     "title": ""
    }
   },
   "outputs": [],
   "source": [
    "# Same method as assignment 10\n",
    "\n",
    "transactions.loc[:, \"seasonal_bonus\"].value_counts().iloc[1:].sum() * 100"
   ]
  },
  {
   "cell_type": "markdown",
   "metadata": {
    "application/vnd.databricks.v1+cell": {
     "cellMetadata": {},
     "inputWidgets": {},
     "nuid": "e1bb52b9-24f3-4062-bacf-d7b98e84b150",
     "showTitle": false,
     "tableResultSettingsMap": {},
     "title": ""
    }
   },
   "source": [
    "# Assignment 12: Memory Optimization\n",
    "\n",
    "Reduce the memory usage of the transactions DataFrame to below 5MB."
   ]
  },
  {
   "cell_type": "code",
   "execution_count": 0,
   "metadata": {
    "application/vnd.databricks.v1+cell": {
     "cellMetadata": {},
     "inputWidgets": {},
     "nuid": "94ec0489-1ed3-4425-af53-730d2c0a4408",
     "showTitle": false,
     "tableResultSettingsMap": {},
     "title": ""
    }
   },
   "outputs": [],
   "source": [
    "transactions.head()"
   ]
  },
  {
   "cell_type": "code",
   "execution_count": 0,
   "metadata": {
    "application/vnd.databricks.v1+cell": {
     "cellMetadata": {},
     "inputWidgets": {},
     "nuid": "541b8cf2-f325-4133-b69b-ec1c5ba21997",
     "showTitle": false,
     "tableResultSettingsMap": {},
     "title": ""
    }
   },
   "outputs": [],
   "source": [
    "transactions.info(memory_usage=\"deep\")"
   ]
  },
  {
   "cell_type": "code",
   "execution_count": 0,
   "metadata": {
    "application/vnd.databricks.v1+cell": {
     "cellMetadata": {},
     "inputWidgets": {},
     "nuid": "ae6eac2a-3e8f-468c-9a23-dd5c91622c43",
     "showTitle": false,
     "tableResultSettingsMap": {},
     "title": ""
    }
   },
   "outputs": [],
   "source": [
    "# Note - you may have been more conservative here, and that's OK.\n",
    "# The main point is reducing memory consumption. Playing it safe is often wise.\n",
    "\n",
    "transactions = transactions.astype(\n",
    "    {\n",
    "        \"store_number\": \"Int8\",\n",
    "        \"transaction_count\": \"Int16\",\n",
    "        \"bonus_payable\": \"Int8\",\n",
    "        \"month\": \"Int8\",\n",
    "        \"day_of_week\": \"Int8\",\n",
    "        \"seasonal_bonus\": \"category\",\n",
    "    }\n",
    ")"
   ]
  },
  {
   "cell_type": "code",
   "execution_count": 0,
   "metadata": {
    "application/vnd.databricks.v1+cell": {
     "cellMetadata": {},
     "inputWidgets": {},
     "nuid": "57ffb571-0d2f-4b68-a871-972617b57879",
     "showTitle": false,
     "tableResultSettingsMap": {},
     "title": ""
    }
   },
   "outputs": [],
   "source": [
    "transactions.head()"
   ]
  },
  {
   "cell_type": "code",
   "execution_count": 0,
   "metadata": {
    "application/vnd.databricks.v1+cell": {
     "cellMetadata": {},
     "inputWidgets": {},
     "nuid": "c973d498-a1f6-4ff9-b75e-11eea795f8af",
     "showTitle": false,
     "tableResultSettingsMap": {},
     "title": ""
    }
   },
   "outputs": [],
   "source": [
    "# down to 2.9MB vs. 10.1 to start. Will work on Chandler's grandparents computer!\n",
    "\n",
    "transactions.info(memory_usage=\"deep\")"
   ]
  },
  {
   "cell_type": "code",
   "execution_count": 0,
   "metadata": {
    "application/vnd.databricks.v1+cell": {
     "cellMetadata": {},
     "inputWidgets": {},
     "nuid": "829d41a4-fb49-4978-bb68-e0da5156873a",
     "showTitle": false,
     "tableResultSettingsMap": {},
     "title": ""
    }
   },
   "outputs": [],
   "source": []
  }
 ],
 "metadata": {
  "application/vnd.databricks.v1+notebook": {
   "dashboards": [],
   "environmentMetadata": null,
   "language": "python",
   "notebookMetadata": {},
   "notebookName": "section03_DataFrames_solutions",
   "widgets": {}
  },
  "kernelspec": {
   "display_name": "Python 3 (ipykernel)",
   "language": "python",
   "name": "python3"
  },
  "language_info": {
   "codemirror_mode": {
    "name": "ipython",
    "version": 3
   },
   "file_extension": ".py",
   "mimetype": "text/x-python",
   "name": "python",
   "nbconvert_exporter": "python",
   "pygments_lexer": "ipython3",
   "version": "3.9.7"
  }
 },
 "nbformat": 4,
 "nbformat_minor": 0
}
