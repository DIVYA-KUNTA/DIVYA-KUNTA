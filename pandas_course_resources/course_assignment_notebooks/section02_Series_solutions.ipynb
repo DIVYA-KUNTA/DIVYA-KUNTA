{
 "cells": [
  {
   "cell_type": "code",
   "execution_count": 0,
   "metadata": {
    "application/vnd.databricks.v1+cell": {
     "cellMetadata": {},
     "inputWidgets": {},
     "nuid": "14bfaf56-09b1-41a0-adff-c91f98c71888",
     "showTitle": false,
     "tableResultSettingsMap": {},
     "title": ""
    }
   },
   "outputs": [],
   "source": [
    "import pandas as pd\n",
    "import numpy as np"
   ]
  },
  {
   "cell_type": "markdown",
   "metadata": {
    "application/vnd.databricks.v1+cell": {
     "cellMetadata": {},
     "inputWidgets": {},
     "nuid": "e798700e-31f1-4d17-b7b5-43d74e2c0191",
     "showTitle": false,
     "tableResultSettingsMap": {},
     "title": ""
    }
   },
   "source": [
    "# Assignment 1: Series Basics\n",
    "\n",
    "The code has been previded to create an array, `oil_array` from a dataframe column. \n",
    "\n",
    "* Convert `oil_array` into a Pandas Series, called `oil_series`. Give it a name!\n",
    "* Return the name, dtype, size, and index of `oil_series`.\n",
    "\n",
    "Take the mean of the values array. \n",
    "\n",
    "Then, convert the series to integer datatype and recalculate the mean. \n"
   ]
  },
  {
   "cell_type": "code",
   "execution_count": 0,
   "metadata": {
    "application/vnd.databricks.v1+cell": {
     "cellMetadata": {},
     "inputWidgets": {},
     "nuid": "19e2c35c-ebe7-456e-9e2d-aa7476e41f90",
     "showTitle": false,
     "tableResultSettingsMap": {},
     "title": ""
    }
   },
   "outputs": [],
   "source": [
    "# create a DataFrame from the oil file, drop missing values\n",
    "oil = pd.read_csv(\"../retail/oil.csv\").dropna()\n",
    "\n",
    "# Grab 100 rows of oil prices\n",
    "oil_array = np.array(oil[\"dcoilwtico\"].iloc[1000:1100])\n",
    "\n",
    "oil_array"
   ]
  },
  {
   "cell_type": "code",
   "execution_count": 0,
   "metadata": {
    "application/vnd.databricks.v1+cell": {
     "cellMetadata": {},
     "inputWidgets": {},
     "nuid": "97b3717f-0f70-4fea-8766-9c8afed2482c",
     "showTitle": false,
     "tableResultSettingsMap": {},
     "title": ""
    }
   },
   "outputs": [],
   "source": [
    "# convert oil_array to a series\n",
    "\n",
    "oil_series = pd.Series(oil_array, name=\"oil_prices\")\n",
    "              \n",
    "oil_series"
   ]
  },
  {
   "cell_type": "code",
   "execution_count": 0,
   "metadata": {
    "application/vnd.databricks.v1+cell": {
     "cellMetadata": {},
     "inputWidgets": {},
     "nuid": "b02443d6-cf10-4a7b-ac8d-0a62fb79a8c4",
     "showTitle": false,
     "tableResultSettingsMap": {},
     "title": ""
    }
   },
   "outputs": [],
   "source": [
    "print(f\"Name: {oil_series.name}\")\n",
    "print(f\"dtype: {oil_series.dtype}\")\n",
    "print(f\"size: {oil_series.size}\")\n",
    "print(f\"index: {oil_series.index}\")"
   ]
  },
  {
   "cell_type": "code",
   "execution_count": 0,
   "metadata": {
    "application/vnd.databricks.v1+cell": {
     "cellMetadata": {},
     "inputWidgets": {},
     "nuid": "dfeb4308-0b36-47d7-b9b2-8ad036d08db5",
     "showTitle": false,
     "tableResultSettingsMap": {},
     "title": ""
    }
   },
   "outputs": [],
   "source": [
    "oil_series.values.mean()"
   ]
  },
  {
   "cell_type": "code",
   "execution_count": 0,
   "metadata": {
    "application/vnd.databricks.v1+cell": {
     "cellMetadata": {},
     "inputWidgets": {},
     "nuid": "7e10a721-ca64-4134-a7ea-5785791263a6",
     "showTitle": false,
     "tableResultSettingsMap": {},
     "title": ""
    }
   },
   "outputs": [],
   "source": [
    "oil_series.index"
   ]
  },
  {
   "cell_type": "code",
   "execution_count": 0,
   "metadata": {
    "application/vnd.databricks.v1+cell": {
     "cellMetadata": {},
     "inputWidgets": {},
     "nuid": "8f58210e-a2a8-4fd5-bee6-ca389790d34d",
     "showTitle": false,
     "tableResultSettingsMap": {},
     "title": ""
    }
   },
   "outputs": [],
   "source": [
    "oil_series.index.dtype"
   ]
  },
  {
   "cell_type": "code",
   "execution_count": 0,
   "metadata": {
    "application/vnd.databricks.v1+cell": {
     "cellMetadata": {},
     "inputWidgets": {},
     "nuid": "e015bde6-691a-4ab2-a055-3c560f84d76c",
     "showTitle": false,
     "tableResultSettingsMap": {},
     "title": ""
    }
   },
   "outputs": [],
   "source": [
    "oil_series.astype(\"int\").values.mean()"
   ]
  },
  {
   "cell_type": "markdown",
   "metadata": {
    "application/vnd.databricks.v1+cell": {
     "cellMetadata": {},
     "inputWidgets": {},
     "nuid": "a9449fc6-86d7-440e-a6e1-e980a3dd494e",
     "showTitle": false,
     "tableResultSettingsMap": {},
     "title": ""
    }
   },
   "source": [
    "# Assignment 2:  Accessing Series Data\n",
    "\n",
    "* Set the date series, which has been created below, to be the index of the oil price series created in assignment 1.\n",
    "\n",
    "\n",
    "* Then, take the mean of the first 10 and last 10 prices of the series.\n",
    "\n",
    "\n",
    "* Finally, grab all oil prices from January 1st, 2017 - January 7th, 2017 (inclusive) and set the index to the default integer index."
   ]
  },
  {
   "cell_type": "code",
   "execution_count": 0,
   "metadata": {
    "application/vnd.databricks.v1+cell": {
     "cellMetadata": {},
     "inputWidgets": {},
     "nuid": "2e216b68-18ed-4397-b9fe-b37ae0501bb5",
     "showTitle": false,
     "tableResultSettingsMap": {},
     "title": ""
    }
   },
   "outputs": [],
   "source": [
    "dates = pd.Series(oil[\"date\"]).iloc[1000:1100]"
   ]
  },
  {
   "cell_type": "code",
   "execution_count": 0,
   "metadata": {
    "application/vnd.databricks.v1+cell": {
     "cellMetadata": {},
     "inputWidgets": {},
     "nuid": "8f793ebf-e10f-416e-8b21-398b43fd6670",
     "showTitle": false,
     "tableResultSettingsMap": {},
     "title": ""
    }
   },
   "outputs": [],
   "source": [
    "oil_series.index = dates\n",
    "\n",
    "oil_series"
   ]
  },
  {
   "cell_type": "code",
   "execution_count": 0,
   "metadata": {
    "application/vnd.databricks.v1+cell": {
     "cellMetadata": {},
     "inputWidgets": {},
     "nuid": "21496151-2f05-4a98-9ba0-c1699d87c375",
     "showTitle": false,
     "tableResultSettingsMap": {},
     "title": ""
    }
   },
   "outputs": [],
   "source": [
    "oil_series.iloc[:10]"
   ]
  },
  {
   "cell_type": "code",
   "execution_count": 0,
   "metadata": {
    "application/vnd.databricks.v1+cell": {
     "cellMetadata": {},
     "inputWidgets": {},
     "nuid": "1452deb8-c683-4456-aac6-22142dacbd96",
     "showTitle": false,
     "tableResultSettingsMap": {},
     "title": ""
    }
   },
   "outputs": [],
   "source": [
    "# Mean of first 10 prices \n",
    "\n",
    "oil_series.iloc[:10].mean()"
   ]
  },
  {
   "cell_type": "code",
   "execution_count": 0,
   "metadata": {
    "application/vnd.databricks.v1+cell": {
     "cellMetadata": {},
     "inputWidgets": {},
     "nuid": "e0b94f1d-bde2-4d07-9dba-2c8db384dd8a",
     "showTitle": false,
     "tableResultSettingsMap": {},
     "title": ""
    }
   },
   "outputs": [],
   "source": [
    "# Mean of last 10 prices\n",
    "\n",
    "oil_series.iloc[-10:].mean()"
   ]
  },
  {
   "cell_type": "code",
   "execution_count": 0,
   "metadata": {
    "application/vnd.databricks.v1+cell": {
     "cellMetadata": {},
     "inputWidgets": {},
     "nuid": "80c4e824-f9dc-4c38-b27f-1b76949907c1",
     "showTitle": false,
     "tableResultSettingsMap": {},
     "title": ""
    }
   },
   "outputs": [],
   "source": [
    "# Slice labels using loc, reset index and drop dates to return series w/ integer index\n",
    "\n",
    "oil_series.loc[\"2017-01-01\":\"2017-01-07\"].reset_index(drop=True)"
   ]
  },
  {
   "cell_type": "markdown",
   "metadata": {
    "application/vnd.databricks.v1+cell": {
     "cellMetadata": {},
     "inputWidgets": {},
     "nuid": "31e9496b-cb7d-4efc-821a-ef38d227f395",
     "showTitle": false,
     "tableResultSettingsMap": {},
     "title": ""
    }
   },
   "source": [
    "# Assignment 3: Sorting and Filtering Series\n",
    "\n",
    "* First, get the 10 lowest prices from the data. \n",
    "* Sort the 10 lowest prices by date, starting with the most recent and ending with the oldest price.\n",
    "\n",
    "* Finally, use the list of provided dates. Select only rows with these dates that had a price of less than 50 dollars per barrel."
   ]
  },
  {
   "cell_type": "code",
   "execution_count": 0,
   "metadata": {
    "application/vnd.databricks.v1+cell": {
     "cellMetadata": {},
     "inputWidgets": {},
     "nuid": "75186b73-4240-41b8-98bb-0a754753e014",
     "showTitle": false,
     "tableResultSettingsMap": {},
     "title": ""
    }
   },
   "outputs": [],
   "source": [
    "# list of dates to be used to solve bullet 3\n",
    "\n",
    "dates = [\n",
    "    \"2016-12-22\",\n",
    "    \"2017-05-03\",\n",
    "    \"2017-01-06\",\n",
    "    \"2017-03-05\",\n",
    "    \"2017-02-12\",\n",
    "    \"2017-03-21\",\n",
    "    \"2017-04-14\",\n",
    "    \"2017-04-15\",\n",
    "]"
   ]
  },
  {
   "cell_type": "code",
   "execution_count": 0,
   "metadata": {
    "application/vnd.databricks.v1+cell": {
     "cellMetadata": {},
     "inputWidgets": {},
     "nuid": "384b954a-4018-49f0-baab-def85ada013a",
     "showTitle": false,
     "tableResultSettingsMap": {},
     "title": ""
    }
   },
   "outputs": [],
   "source": [
    "# Get 10 lowest prices by grabbing first 10 rows of sorted price series\n",
    "# Then, sort by index in descending order\n",
    "\n",
    "oil_series.sort_values().iloc[:10].sort_index(ascending=False)"
   ]
  },
  {
   "cell_type": "code",
   "execution_count": 0,
   "metadata": {
    "application/vnd.databricks.v1+cell": {
     "cellMetadata": {},
     "inputWidgets": {},
     "nuid": "d4f62944-a7be-4849-9493-bdb8a24f9e32",
     "showTitle": false,
     "tableResultSettingsMap": {},
     "title": ""
    }
   },
   "outputs": [],
   "source": [
    "# Create mask to filter to only dates in list of dates and oil price <= 50\n",
    "\n",
    "mask = oil_series.index.isin(dates) & (oil_series <= 50)\n",
    "\n",
    "oil_series.loc[mask]"
   ]
  },
  {
   "cell_type": "markdown",
   "metadata": {
    "application/vnd.databricks.v1+cell": {
     "cellMetadata": {},
     "inputWidgets": {},
     "nuid": "15aea723-561e-45cf-82b1-64aec4ecbae2",
     "showTitle": false,
     "tableResultSettingsMap": {},
     "title": ""
    }
   },
   "source": [
    "\n",
    "# Assignment 4: Series Operations\n",
    "\n",
    "* Increase the prices in the oil series by 10%, and add an additional 2 dollars per barrel on top of that.\n",
    "\n",
    "* Then, create a series that represents the difference between each price and max price.\n",
    "\n",
    "* Finally, extract the month from the string dates in the index and store them as an integer in their own series."
   ]
  },
  {
   "cell_type": "code",
   "execution_count": 0,
   "metadata": {
    "application/vnd.databricks.v1+cell": {
     "cellMetadata": {},
     "inputWidgets": {},
     "nuid": "9d589fab-b83f-4607-babb-f83b39de83a6",
     "showTitle": false,
     "tableResultSettingsMap": {},
     "title": ""
    }
   },
   "outputs": [],
   "source": [
    "# Multiple oil series values by 1.1 (10% increase), then add 2 to each row\n",
    "\n",
    "# with Pandas methods\n",
    "oil_series.mul(1.1).add(2)\n",
    "\n",
    "# with Python operators\n",
    "oil_series * 1.1 + 2"
   ]
  },
  {
   "cell_type": "code",
   "execution_count": 0,
   "metadata": {
    "application/vnd.databricks.v1+cell": {
     "cellMetadata": {},
     "inputWidgets": {},
     "nuid": "f39c5168-6892-459a-b32d-9249cc35e1de",
     "showTitle": false,
     "tableResultSettingsMap": {},
     "title": ""
    }
   },
   "outputs": [],
   "source": [
    "# Get max price, store in variable\n",
    "\n",
    "max_price = oil_series.max()\n",
    "\n",
    "max_price"
   ]
  },
  {
   "cell_type": "code",
   "execution_count": 0,
   "metadata": {
    "application/vnd.databricks.v1+cell": {
     "cellMetadata": {},
     "inputWidgets": {},
     "nuid": "5a46ee6a-9985-46f4-b7c8-967f444bd26f",
     "showTitle": false,
     "tableResultSettingsMap": {},
     "title": ""
    }
   },
   "outputs": [],
   "source": [
    "# Subtract max price from all rows in oil_series (returns a Series)\n",
    "(oil_series - max_price) / max_price"
   ]
  },
  {
   "cell_type": "code",
   "execution_count": 0,
   "metadata": {
    "application/vnd.databricks.v1+cell": {
     "cellMetadata": {},
     "inputWidgets": {},
     "nuid": "be9ba355-af10-4f83-8fd5-5277e1028b72",
     "showTitle": false,
     "tableResultSettingsMap": {},
     "title": ""
    }
   },
   "outputs": [],
   "source": [
    "# Create a series from the index of oil_series\n",
    "string_dates = pd.Series(oil_series.index)"
   ]
  },
  {
   "cell_type": "code",
   "execution_count": 0,
   "metadata": {
    "application/vnd.databricks.v1+cell": {
     "cellMetadata": {},
     "inputWidgets": {},
     "nuid": "fd923b3e-2b50-48c8-ace1-4fb99c891ad4",
     "showTitle": false,
     "tableResultSettingsMap": {},
     "title": ""
    }
   },
   "outputs": [],
   "source": [
    "# Slice out month portion of text string and convert to int\n",
    "string_dates.str[5:7].astype(\"int\")"
   ]
  },
  {
   "cell_type": "code",
   "execution_count": 0,
   "metadata": {
    "application/vnd.databricks.v1+cell": {
     "cellMetadata": {},
     "inputWidgets": {},
     "nuid": "1bbe9c51-c1e9-4bbd-b531-671bffe4370a",
     "showTitle": false,
     "tableResultSettingsMap": {},
     "title": ""
    }
   },
   "outputs": [],
   "source": [
    "# single line\n",
    "pd.Series(oil_series.index).str[5:7].astype(\"int\")"
   ]
  },
  {
   "cell_type": "markdown",
   "metadata": {
    "application/vnd.databricks.v1+cell": {
     "cellMetadata": {},
     "inputWidgets": {},
     "nuid": "81747556-8965-4fd2-bf83-0ad4a8421023",
     "showTitle": false,
     "tableResultSettingsMap": {},
     "title": ""
    }
   },
   "source": [
    "# Assignment 5: Series Aggregations\n",
    "\n",
    "* Calculate the sum and mean of prices in the month of March. \n",
    "\n",
    "* Next, calculate how many prices were recorded in January and February.\n",
    "\n",
    "* Then, calculate the 10th and 90th percentiles across all data.\n",
    "\n",
    "* Finally, how often did integer dollar value (e.g. 51, 52) occur in the data? Normalize this to a percentage.   "
   ]
  },
  {
   "cell_type": "code",
   "execution_count": 0,
   "metadata": {
    "application/vnd.databricks.v1+cell": {
     "cellMetadata": {},
     "inputWidgets": {},
     "nuid": "2350b807-8107-439a-a606-50ef8b7248e6",
     "showTitle": false,
     "tableResultSettingsMap": {},
     "title": ""
    }
   },
   "outputs": [],
   "source": [
    "# Filter series to March (month 3), calculate sum of prices, and round\n",
    "\n",
    "oil_series[oil_series.index.str[6:7] == \"3\"].sum().round(2)"
   ]
  },
  {
   "cell_type": "code",
   "execution_count": 0,
   "metadata": {
    "application/vnd.databricks.v1+cell": {
     "cellMetadata": {},
     "inputWidgets": {},
     "nuid": "2e9529ab-7746-48dd-a70a-0154ef404c70",
     "showTitle": false,
     "tableResultSettingsMap": {},
     "title": ""
    }
   },
   "outputs": [],
   "source": [
    "# Filter series to march, calculate mean\n",
    "\n",
    "oil_series[oil_series.index.str[6:7] == \"3\"].mean()"
   ]
  },
  {
   "cell_type": "code",
   "execution_count": 0,
   "metadata": {
    "application/vnd.databricks.v1+cell": {
     "cellMetadata": {},
     "inputWidgets": {},
     "nuid": "2baedac7-cc5e-48ea-87ff-4e781f8d17c2",
     "showTitle": false,
     "tableResultSettingsMap": {},
     "title": ""
    }
   },
   "outputs": [],
   "source": [
    "# Filter series to Jan and Feb, count entries\n",
    "\n",
    "oil_series[oil_series.index.str[5:7].isin([\"01\", \"02\"])].count()"
   ]
  },
  {
   "cell_type": "code",
   "execution_count": 0,
   "metadata": {
    "application/vnd.databricks.v1+cell": {
     "cellMetadata": {},
     "inputWidgets": {},
     "nuid": "8995ee53-c384-46aa-ba2a-f6c12b1448a4",
     "showTitle": false,
     "tableResultSettingsMap": {},
     "title": ""
    }
   },
   "outputs": [],
   "source": [
    "# Calculate 10th and 90th percentiles of oil series using quantile\n",
    "\n",
    "oil_series.quantile([0.1, 0.9])"
   ]
  },
  {
   "cell_type": "code",
   "execution_count": 0,
   "metadata": {
    "application/vnd.databricks.v1+cell": {
     "cellMetadata": {},
     "inputWidgets": {},
     "nuid": "73b42050-deed-4f18-9d70-0433207c11bd",
     "showTitle": false,
     "tableResultSettingsMap": {},
     "title": ""
    }
   },
   "outputs": [],
   "source": [
    "# Return normalized value counts to get percentage of time each integer dollar value occurred\n",
    "\n",
    "oil_series.astype(\"int\").value_counts(normalize=True)"
   ]
  },
  {
   "cell_type": "markdown",
   "metadata": {
    "application/vnd.databricks.v1+cell": {
     "cellMetadata": {},
     "inputWidgets": {},
     "nuid": "1b69a646-917a-4476-989e-c876aa930256",
     "showTitle": false,
     "tableResultSettingsMap": {},
     "title": ""
    }
   },
   "source": [
    "# Assignment 6: Missing Data\n",
    "\n",
    "There were some erroneous prices in our data, so they were filled in with missing values.\n",
    "\n",
    "Can you confirm the number of missing values in the price column? \n",
    "\n",
    "Once you’ve done that, fill the prices in with the median of the oil price series.\n"
   ]
  },
  {
   "cell_type": "code",
   "execution_count": 0,
   "metadata": {
    "application/vnd.databricks.v1+cell": {
     "cellMetadata": {},
     "inputWidgets": {},
     "nuid": "4e264383-dbeb-4a6a-a2b9-c10c2c93f8bc",
     "showTitle": false,
     "tableResultSettingsMap": {},
     "title": ""
    },
    "scrolled": true
   },
   "outputs": [],
   "source": [
    "# Fill in two values with missing data\n",
    "oil_series = oil_series.where(~oil_series.isin([51.44, 47.83]), pd.NA)"
   ]
  },
  {
   "cell_type": "code",
   "execution_count": 0,
   "metadata": {
    "application/vnd.databricks.v1+cell": {
     "cellMetadata": {},
     "inputWidgets": {},
     "nuid": "02db23c2-25b1-4573-9763-f3ee16f3a186",
     "showTitle": false,
     "tableResultSettingsMap": {},
     "title": ""
    }
   },
   "outputs": [],
   "source": [
    "# Sum/count missing values\n",
    "\n",
    "oil_series.isna().sum()"
   ]
  },
  {
   "cell_type": "code",
   "execution_count": 0,
   "metadata": {
    "application/vnd.databricks.v1+cell": {
     "cellMetadata": {},
     "inputWidgets": {},
     "nuid": "02fa21b0-9e59-46cb-995b-794ae847cd43",
     "showTitle": false,
     "tableResultSettingsMap": {},
     "title": ""
    },
    "scrolled": true
   },
   "outputs": [],
   "source": [
    "# Fill in missing values with median\n",
    "\n",
    "oil_series.fillna(oil_series.median())"
   ]
  },
  {
   "cell_type": "markdown",
   "metadata": {
    "application/vnd.databricks.v1+cell": {
     "cellMetadata": {},
     "inputWidgets": {},
     "nuid": "7579fca8-c02d-4bd9-b6d5-9e7e1d8d48d7",
     "showTitle": false,
     "tableResultSettingsMap": {},
     "title": ""
    }
   },
   "source": [
    "# Exercise 7: Apply and Where\n",
    "\n",
    "Write a function that outputs ‘buy’ if price is less than the 90th percentile and ‘wait’ if it’s not. Apply it to the oil series.\n",
    "\n",
    "Then, create a series that multiplies price by .9 if the date is ‘2016-12-23’ or ‘2017-05-10’, and 1.1 for all other dates. "
   ]
  },
  {
   "cell_type": "code",
   "execution_count": 0,
   "metadata": {
    "application/vnd.databricks.v1+cell": {
     "cellMetadata": {},
     "inputWidgets": {},
     "nuid": "3e3b9348-4147-4aaa-814b-5d4e761cf7cc",
     "showTitle": false,
     "tableResultSettingsMap": {},
     "title": ""
    }
   },
   "outputs": [],
   "source": [
    "# Define a function that returns 'Buy' if price below limit, 'Wait' if not.\n",
    "\n",
    "def buy_bool(price, limit):\n",
    "    if price < limit:\n",
    "        return \"Buy\"\n",
    "    return \"Wait\""
   ]
  },
  {
   "cell_type": "code",
   "execution_count": 0,
   "metadata": {
    "application/vnd.databricks.v1+cell": {
     "cellMetadata": {},
     "inputWidgets": {},
     "nuid": "2c3b97a0-d885-4b42-960c-a1bf8da2bb21",
     "showTitle": false,
     "tableResultSettingsMap": {},
     "title": ""
    }
   },
   "outputs": [],
   "source": [
    "# Apply function to OIl Series, args = to specify arguments - make sure to pass a list or tuple to args\n",
    "\n",
    "oil_series.apply(buy_bool, args=(oil_series.quantile(0.9),))"
   ]
  },
  {
   "cell_type": "code",
   "execution_count": 0,
   "metadata": {
    "application/vnd.databricks.v1+cell": {
     "cellMetadata": {},
     "inputWidgets": {},
     "nuid": "d85f956c-a667-4a87-a655-bd2665c30a64",
     "showTitle": false,
     "tableResultSettingsMap": {},
     "title": ""
    }
   },
   "outputs": [],
   "source": [
    "# Lambda function version of Wait/Buy\n",
    "\n",
    "oil_series.apply(lambda x: \"Buy\" if x < oil_series.quantile(0.9) else \"Wait\")"
   ]
  },
  {
   "cell_type": "code",
   "execution_count": 0,
   "metadata": {
    "application/vnd.databricks.v1+cell": {
     "cellMetadata": {},
     "inputWidgets": {},
     "nuid": "a2a9ad19-d075-4955-81c1-af6955ad9bfe",
     "showTitle": false,
     "tableResultSettingsMap": {},
     "title": ""
    }
   },
   "outputs": [],
   "source": [
    "# Chain Pandas where to specify complementary logic.\n",
    "# First where - if test returns FALSE (not one of these dates), multiply by 1.1\n",
    "# Second where - if inverted test returns FALSE (is one of these dates) multiply by .9\n",
    "\n",
    "(oil_series\n",
    " .where(oil_series.index.isin([\"2016-12-23\", \"2017-05-10\"]), oil_series * 1.1)\n",
    " .where(~oil_series.index.isin([\"2016-12-23\", \"2017-05-10\"]), oil_series * .9)\n",
    ")"
   ]
  },
  {
   "cell_type": "code",
   "execution_count": 0,
   "metadata": {
    "application/vnd.databricks.v1+cell": {
     "cellMetadata": {},
     "inputWidgets": {},
     "nuid": "9062b8b6-0d7b-4590-8580-01bcdcc3a87b",
     "showTitle": false,
     "tableResultSettingsMap": {},
     "title": ""
    }
   },
   "outputs": [],
   "source": [
    "# Use NumPy where to modify price based on dates.\n",
    "# if price in list, multiply by .9\n",
    "# if price not in list, multiply by 1.1\n",
    "# Convert NumPy array returned by np.where to Series\n",
    "import numpy as np\n",
    "\n",
    "pd.Series(\n",
    "    np.where(\n",
    "        oil_series.index.isin([\"2016-12-23\", \"2017-05-10\"]),\n",
    "        oil_series * 0.9,\n",
    "        oil_series * 1.1,\n",
    "    )\n",
    ")"
   ]
  }
 ],
 "metadata": {
  "application/vnd.databricks.v1+notebook": {
   "dashboards": [],
   "environmentMetadata": null,
   "language": "python",
   "notebookMetadata": {},
   "notebookName": "section02_Series_solutions",
   "widgets": {}
  },
  "kernelspec": {
   "display_name": "Python 3 (ipykernel)",
   "language": "python",
   "name": "python3"
  },
  "language_info": {
   "name": "python"
  }
 },
 "nbformat": 4,
 "nbformat_minor": 0
}
