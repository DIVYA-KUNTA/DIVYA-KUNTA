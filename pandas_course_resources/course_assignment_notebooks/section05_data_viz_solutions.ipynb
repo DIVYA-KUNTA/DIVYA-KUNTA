{
 "cells": [
  {
   "cell_type": "code",
   "execution_count": 0,
   "metadata": {
    "application/vnd.databricks.v1+cell": {
     "cellMetadata": {},
     "inputWidgets": {},
     "nuid": "1fc54611-777d-44ea-aa85-146a39fefafb",
     "showTitle": false,
     "tableResultSettingsMap": {},
     "title": ""
    }
   },
   "outputs": [],
   "source": [
    "import pandas as pd"
   ]
  },
  {
   "cell_type": "code",
   "execution_count": 0,
   "metadata": {
    "application/vnd.databricks.v1+cell": {
     "cellMetadata": {},
     "inputWidgets": {},
     "nuid": "e9bb02f0-1b66-467a-ae1f-258b31b7f849",
     "showTitle": false,
     "tableResultSettingsMap": {},
     "title": ""
    }
   },
   "outputs": [],
   "source": [
    "oil = pd.read_csv(\"../retail/oil.csv\")"
   ]
  },
  {
   "cell_type": "markdown",
   "metadata": {
    "application/vnd.databricks.v1+cell": {
     "cellMetadata": {},
     "inputWidgets": {},
     "nuid": "b0ca4ecd-656b-4bbc-9f72-06d48693cf43",
     "showTitle": false,
     "tableResultSettingsMap": {},
     "title": ""
    }
   },
   "source": [
    "# Assignment 1: Simple Line Chart\n",
    "\n",
    "Build a simple line plot for the oil series. Are there any interesting patterns here? \n",
    "\n",
    "What happened in 2014 to oil price?"
   ]
  },
  {
   "cell_type": "code",
   "execution_count": 0,
   "metadata": {
    "application/vnd.databricks.v1+cell": {
     "cellMetadata": {},
     "inputWidgets": {},
     "nuid": "e9fbe0a0-7453-4c3d-94a4-47b803f29548",
     "showTitle": false,
     "tableResultSettingsMap": {},
     "title": ""
    }
   },
   "outputs": [],
   "source": [
    "oil.head()"
   ]
  },
  {
   "cell_type": "code",
   "execution_count": 0,
   "metadata": {
    "application/vnd.databricks.v1+cell": {
     "cellMetadata": {},
     "inputWidgets": {},
     "nuid": "7536279a-43b2-4af1-a646-e851dcee5b36",
     "showTitle": false,
     "tableResultSettingsMap": {},
     "title": ""
    }
   },
   "outputs": [],
   "source": [
    "# Using set index\n",
    "(oil\n",
    " .set_index(\"date\")\n",
    " .plot()\n",
    ")"
   ]
  },
  {
   "cell_type": "code",
   "execution_count": 0,
   "metadata": {
    "application/vnd.databricks.v1+cell": {
     "cellMetadata": {},
     "inputWidgets": {},
     "nuid": "e084a249-7c8a-43d8-be05-9b3cba47cedf",
     "showTitle": false,
     "tableResultSettingsMap": {},
     "title": ""
    }
   },
   "outputs": [],
   "source": [
    "# Using x= argument\n",
    "oil.plot(x='date')"
   ]
  },
  {
   "cell_type": "code",
   "execution_count": 0,
   "metadata": {
    "application/vnd.databricks.v1+cell": {
     "cellMetadata": {},
     "inputWidgets": {},
     "nuid": "52fc31e0-40c9-4e7e-ac9a-f405e48557d2",
     "showTitle": false,
     "tableResultSettingsMap": {},
     "title": ""
    }
   },
   "outputs": [],
   "source": [
    "# Example with oil price as datetime instead of object -- more later!\n",
    "(oil\n",
    " .astype({\"date\": \"datetime64\"})  # Convert date to datetime64\n",
    " .set_index(\"date\")\n",
    " .loc[\"2013\":\"2014\"]  # nice filtering here with dates\n",
    " .plot()\n",
    ")"
   ]
  },
  {
   "cell_type": "markdown",
   "metadata": {
    "application/vnd.databricks.v1+cell": {
     "cellMetadata": {},
     "inputWidgets": {},
     "nuid": "5c5da3e1-03e5-4aab-8466-e80fecebcc80",
     "showTitle": false,
     "tableResultSettingsMap": {},
     "title": ""
    }
   },
   "source": [
    "# Assignment 2: Upgraded Line Chart\n",
    "\n",
    "\n",
    "Give your chart a style, add axis titles, and change the color of the line to black. \n",
    "\n",
    "Consider converting the date column to datetime64.\n",
    "\n",
    "Rename the column to a more intuitive name for the audience."
   ]
  },
  {
   "cell_type": "code",
   "execution_count": 0,
   "metadata": {
    "application/vnd.databricks.v1+cell": {
     "cellMetadata": {},
     "inputWidgets": {},
     "nuid": "e8b42261-7e62-4f6c-bf13-f9ad469d5c80",
     "showTitle": false,
     "tableResultSettingsMap": {},
     "title": ""
    }
   },
   "outputs": [],
   "source": [
    "import seaborn as sns\n",
    "\n",
    "sns.set_style(\"darkgrid\")"
   ]
  },
  {
   "cell_type": "code",
   "execution_count": 0,
   "metadata": {
    "application/vnd.databricks.v1+cell": {
     "cellMetadata": {},
     "inputWidgets": {},
     "nuid": "06ae9098-8361-4cc5-aaea-147a5f927f5a",
     "showTitle": false,
     "tableResultSettingsMap": {},
     "title": ""
    }
   },
   "outputs": [],
   "source": [
    "oil = oil.rename(columns={\"dcoilwtico\": \"Oil Price\"})\n",
    "\n",
    "oil"
   ]
  },
  {
   "cell_type": "code",
   "execution_count": 0,
   "metadata": {
    "application/vnd.databricks.v1+cell": {
     "cellMetadata": {},
     "inputWidgets": {},
     "nuid": "cf4857cd-9a72-40c5-a141-f437b4391505",
     "showTitle": false,
     "tableResultSettingsMap": {},
     "title": ""
    }
   },
   "outputs": [],
   "source": [
    "(oil\n",
    " .set_index(oil[\"date\"].astype(\"Datetime64\"))\n",
    " .plot(\n",
    "    title=\"Oil Price 2013-2017\", \n",
    "    xlabel=\"Date\", \n",
    "    ylabel=\"USD Price\", \n",
    "    c=\"Black\")\n",
    ")"
   ]
  },
  {
   "cell_type": "markdown",
   "metadata": {
    "application/vnd.databricks.v1+cell": {
     "cellMetadata": {},
     "inputWidgets": {},
     "nuid": "8692f3b6-5cfa-4d89-8701-7e42c5588364",
     "showTitle": false,
     "tableResultSettingsMap": {},
     "title": ""
    }
   },
   "source": [
    "# Assignment 3: Subplots\n",
    "\n",
    "Filter the transactions table to stores 1, 2, 3 and 4, then reshape it so each row is a date, and the columns of the table are the transactions for each store. \n",
    "\n",
    "Once you've done that, create a 2x2 plot of transactions by store, with one plot for each store.\n",
    "\n",
    "Thanks!"
   ]
  },
  {
   "cell_type": "code",
   "execution_count": 0,
   "metadata": {
    "application/vnd.databricks.v1+cell": {
     "cellMetadata": {},
     "inputWidgets": {},
     "nuid": "b9f9c4e7-474b-458b-90d2-e0df08bd6c15",
     "showTitle": false,
     "tableResultSettingsMap": {},
     "title": ""
    }
   },
   "outputs": [],
   "source": [
    "transactions = pd.read_csv(\"../retail/transactions.csv\")\n",
    "\n",
    "stores_1234 = (transactions\n",
    "                .loc[transactions[\"store_nbr\"].isin([1, 2, 3, 4])]  #filter to stores 1, 2, 3, 4\n",
    "                .pivot_table(index=\"date\", columns=\"store_nbr\") # Createa pivot table\n",
    "                .droplevel(0, axis=1))  # drop outer layer of column axis"
   ]
  },
  {
   "cell_type": "code",
   "execution_count": 0,
   "metadata": {
    "application/vnd.databricks.v1+cell": {
     "cellMetadata": {},
     "inputWidgets": {},
     "nuid": "eaee7864-a544-456a-a13a-331101516f4f",
     "showTitle": false,
     "tableResultSettingsMap": {},
     "title": ""
    },
    "scrolled": true
   },
   "outputs": [],
   "source": [
    "stores_1234"
   ]
  },
  {
   "cell_type": "code",
   "execution_count": 0,
   "metadata": {
    "application/vnd.databricks.v1+cell": {
     "cellMetadata": {},
     "inputWidgets": {},
     "nuid": "9edcd6ef-1865-41b6-a491-7f6acd320f91",
     "showTitle": false,
     "tableResultSettingsMap": {},
     "title": ""
    },
    "scrolled": true
   },
   "outputs": [],
   "source": [
    "stores_1234.plot(subplots=True,   # create subplots\n",
    "                 layout=(2, 2),   # in a 2x2 layour\n",
    "                 figsize=(8, 8),  # increase figure size\n",
    "                 sharey=True)     # share y-axis among plots for better comparison"
   ]
  },
  {
   "cell_type": "markdown",
   "metadata": {
    "application/vnd.databricks.v1+cell": {
     "cellMetadata": {},
     "inputWidgets": {},
     "nuid": "a00e0cbb-dd58-481e-a8f8-f3943f03e5ce",
     "showTitle": false,
     "tableResultSettingsMap": {},
     "title": ""
    }
   },
   "source": [
    "# Assignment 4: Bar Charts\n",
    "\n",
    "Create a sorted Bar chart of total sales by store number for stores 1, 2, 3 and 4.\n",
    "\n",
    "Then create a horizontal stacked bar chart of sales by month, stacked by store number. "
   ]
  },
  {
   "cell_type": "code",
   "execution_count": 0,
   "metadata": {
    "application/vnd.databricks.v1+cell": {
     "cellMetadata": {},
     "inputWidgets": {},
     "nuid": "c4810ffb-ab92-4305-b687-3d8994ffa6cc",
     "showTitle": false,
     "tableResultSettingsMap": {},
     "title": ""
    }
   },
   "outputs": [],
   "source": [
    "# convert dates to datetime64\n",
    "\n",
    "stores_1234.index = stores_1234.index.astype(\"datetime64[ns]\") \n",
    "\n",
    "stores_1234"
   ]
  },
  {
   "cell_type": "code",
   "execution_count": 0,
   "metadata": {
    "application/vnd.databricks.v1+cell": {
     "cellMetadata": {},
     "inputWidgets": {},
     "nuid": "19dbf7db-22d5-4eee-ac1f-fa02f3eb741f",
     "showTitle": false,
     "tableResultSettingsMap": {},
     "title": ""
    }
   },
   "outputs": [],
   "source": [
    "# create bar chart of total sales for each series, sorted high to low\n",
    "\n",
    "stores_1234.sum().sort_values(ascending=False).plot.bar()"
   ]
  },
  {
   "cell_type": "code",
   "execution_count": 0,
   "metadata": {
    "application/vnd.databricks.v1+cell": {
     "cellMetadata": {},
     "inputWidgets": {},
     "nuid": "feab1efa-c749-4ecc-bc61-deb54cb665c6",
     "showTitle": false,
     "tableResultSettingsMap": {},
     "title": ""
    }
   },
   "outputs": [],
   "source": [
    "# Calculate monthly sum for each store groupbed by month\n",
    "\n",
    "# stores_1234.index.month will allow you to groupby the month!\n",
    "\n",
    "stores_1234_monthly = stores_1234.groupby(stores_1234.index.month).sum()\n",
    "\n",
    "stores_1234_monthly"
   ]
  },
  {
   "cell_type": "code",
   "execution_count": 0,
   "metadata": {
    "application/vnd.databricks.v1+cell": {
     "cellMetadata": {},
     "inputWidgets": {},
     "nuid": "80bcda5d-222a-44d3-b043-e7dabd42ef82",
     "showTitle": false,
     "tableResultSettingsMap": {},
     "title": ""
    }
   },
   "outputs": [],
   "source": [
    "(stores_1234_monthly\n",
    " .sort_index(ascending=False)    # sort in ascending order so lowest comes first (technically this code is redundant)\n",
    " .plot.barh(stacked=True)        # created stacked bar chart (will stack by column names)\n",
    " .legend(bbox_to_anchor=(1, 1))  # Move legend to better location\n",
    ")"
   ]
  },
  {
   "cell_type": "markdown",
   "metadata": {
    "application/vnd.databricks.v1+cell": {
     "cellMetadata": {},
     "inputWidgets": {},
     "nuid": "513174c3-ab28-49d9-9299-3398e611d763",
     "showTitle": false,
     "tableResultSettingsMap": {},
     "title": ""
    }
   },
   "source": [
    "# Assignment 5: Scatterplots\n",
    "\n",
    "Plot the relationship between store 2 and store 3 sales.\n",
    "\n",
    "Color the dots by month.\n",
    "\n",
    "Use `c=stores_1234.index.month` to do so."
   ]
  },
  {
   "cell_type": "code",
   "execution_count": 0,
   "metadata": {
    "application/vnd.databricks.v1+cell": {
     "cellMetadata": {},
     "inputWidgets": {},
     "nuid": "09e140cd-9ec3-47fd-94b0-d0f4e8eebc86",
     "showTitle": false,
     "tableResultSettingsMap": {},
     "title": ""
    }
   },
   "outputs": [],
   "source": [
    "stores_1234.head()"
   ]
  },
  {
   "cell_type": "code",
   "execution_count": 0,
   "metadata": {
    "application/vnd.databricks.v1+cell": {
     "cellMetadata": {},
     "inputWidgets": {},
     "nuid": "964d41e5-b2c0-482f-8395-558aa7168cfd",
     "showTitle": false,
     "tableResultSettingsMap": {},
     "title": ""
    },
    "scrolled": true
   },
   "outputs": [],
   "source": [
    "stores_1234.plot.scatter(x=3, y=2) # you could have flipped x and y, not a problem"
   ]
  },
  {
   "cell_type": "code",
   "execution_count": 0,
   "metadata": {
    "application/vnd.databricks.v1+cell": {
     "cellMetadata": {},
     "inputWidgets": {},
     "nuid": "5dd32e31-817d-4fab-bd4f-90e87c2c2e0d",
     "showTitle": false,
     "tableResultSettingsMap": {},
     "title": ""
    }
   },
   "outputs": [],
   "source": [
    "stores_1234.plot.scatter(x=3, \n",
    "                         y=2, \n",
    "                         c=stores_1234.index.month,  # color by month\n",
    "                         colormap=\"Set2\");           # specify colormap \"Set2\", choose your own!"
   ]
  },
  {
   "cell_type": "code",
   "execution_count": 0,
   "metadata": {
    "application/vnd.databricks.v1+cell": {
     "cellMetadata": {},
     "inputWidgets": {},
     "nuid": "164b5a38-491c-4a74-9cfc-2dccd19f9de8",
     "showTitle": false,
     "tableResultSettingsMap": {},
     "title": ""
    }
   },
   "outputs": [],
   "source": [
    "# Example pie chart for reference\n",
    "\n",
    "(stores_1234\n",
    " .sum()                        # sums of stores\n",
    " .sort_values(ascending=True)  # Sort from low to high\n",
    " .plot \n",
    " .pie(startangle=90)           # start first slice at 12 o'clock\n",
    ")"
   ]
  },
  {
   "cell_type": "markdown",
   "metadata": {
    "application/vnd.databricks.v1+cell": {
     "cellMetadata": {},
     "inputWidgets": {},
     "nuid": "5007f003-03d8-435b-8b82-9558ed137b94",
     "showTitle": false,
     "tableResultSettingsMap": {},
     "title": ""
    }
   },
   "source": [
    "# Assignment 6: Histograms\n",
    "\n",
    "Hi there,\n",
    "\n",
    "Can you plot the distributions of sales for stores 2 and 3?\n",
    "\n",
    "I want to see how often store 2 has sales similar to store 3, as well as if there are any outlier type days.\n",
    "\n",
    "Thanks!\n"
   ]
  },
  {
   "cell_type": "code",
   "execution_count": 0,
   "metadata": {
    "application/vnd.databricks.v1+cell": {
     "cellMetadata": {},
     "inputWidgets": {},
     "nuid": "6e140a35-b81b-4646-9b48-d424f8afdb4c",
     "showTitle": false,
     "tableResultSettingsMap": {},
     "title": ""
    }
   },
   "outputs": [],
   "source": [
    "stores_1234.head()"
   ]
  },
  {
   "cell_type": "code",
   "execution_count": 0,
   "metadata": {
    "application/vnd.databricks.v1+cell": {
     "cellMetadata": {},
     "inputWidgets": {},
     "nuid": "176942d6-1f48-47a5-8797-fd13e3a55001",
     "showTitle": false,
     "tableResultSettingsMap": {},
     "title": ""
    },
    "scrolled": true
   },
   "outputs": [],
   "source": [
    "# grab columns for stores 2 and 3, plot a histogram with transparency specified by alpha\n",
    "stores_1234.loc[:, [2, 3]].plot.hist(alpha=.3)"
   ]
  }
 ],
 "metadata": {
  "application/vnd.databricks.v1+notebook": {
   "dashboards": [],
   "environmentMetadata": null,
   "language": "python",
   "notebookMetadata": {
    "pythonIndentUnit": 4
   },
   "notebookName": "section05_data_viz_solutions",
   "widgets": {}
  },
  "kernelspec": {
   "display_name": "Python 3 (ipykernel)",
   "language": "python",
   "name": "python3"
  },
  "language_info": {
   "name": "python"
  }
 },
 "nbformat": 4,
 "nbformat_minor": 0
}
