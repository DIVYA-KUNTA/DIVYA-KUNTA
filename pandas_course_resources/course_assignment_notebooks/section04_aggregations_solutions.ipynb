{
 "cells": [
  {
   "cell_type": "code",
   "execution_count": 0,
   "metadata": {
    "application/vnd.databricks.v1+cell": {
     "cellMetadata": {},
     "inputWidgets": {},
     "nuid": "b61bc373-f25b-4ff4-82b0-d5baee92b266",
     "showTitle": false,
     "tableResultSettingsMap": {},
     "title": ""
    }
   },
   "outputs": [],
   "source": [
    "import pandas as pd\n",
    "import numpy as np"
   ]
  },
  {
   "cell_type": "markdown",
   "metadata": {
    "application/vnd.databricks.v1+cell": {
     "cellMetadata": {},
     "inputWidgets": {},
     "nuid": "3aa3e788-34f4-46c1-9438-d7d95cdd29ee",
     "showTitle": false,
     "tableResultSettingsMap": {},
     "title": ""
    }
   },
   "source": [
    "# Assignment 1: Groupby\n",
    "\n",
    "Can you return a table containing the top 10 stores by total transactions in the data?\n",
    "\n",
    "Make sure they’re sorted from highest to lowest.\n",
    "\n",
    "Thanks!"
   ]
  },
  {
   "cell_type": "code",
   "execution_count": 0,
   "metadata": {
    "application/vnd.databricks.v1+cell": {
     "cellMetadata": {},
     "inputWidgets": {},
     "nuid": "cf43a243-4705-42bf-883b-5c71b2b4c48b",
     "showTitle": false,
     "tableResultSettingsMap": {},
     "title": ""
    }
   },
   "outputs": [],
   "source": [
    "# Read in transactions data -- parse dates specified here for help with later problem\n",
    "\n",
    "transactions = pd.read_csv(\"../retail/transactions.csv\", parse_dates=[\"date\"])\n",
    "\n",
    "transactions.head()"
   ]
  },
  {
   "cell_type": "code",
   "execution_count": 0,
   "metadata": {
    "application/vnd.databricks.v1+cell": {
     "cellMetadata": {},
     "inputWidgets": {},
     "nuid": "7a2460cc-5b86-44a0-967e-23d2af6da2f1",
     "showTitle": false,
     "tableResultSettingsMap": {},
     "title": ""
    }
   },
   "outputs": [],
   "source": [
    "# Group transactions by store_nbr number. Perform sum aggregation on transactions column\n",
    "\n",
    "(transactions\n",
    " .groupby([\"store_nbr\"])[[\"transactions\"]] \n",
    " .sum() \n",
    " .sort_values(\"transactions\", ascending=False)  # sort in descending order\n",
    " .iloc[:10]  # Grab top 10 rows (will be highest values due to sort descending)\n",
    ")"
   ]
  },
  {
   "cell_type": "markdown",
   "metadata": {
    "application/vnd.databricks.v1+cell": {
     "cellMetadata": {},
     "inputWidgets": {},
     "nuid": "6d1dabcb-38e7-424d-a436-6954a958401f",
     "showTitle": false,
     "tableResultSettingsMap": {},
     "title": ""
    }
   },
   "source": [
    "# Assignment 2: Groupby Multiple Columns\n",
    "\n",
    "Can you get me the total transactions by store and month? \n",
    "\n",
    "Sort the table from first month to last, then by highest transactions to lowest within each month. \n"
   ]
  },
  {
   "cell_type": "code",
   "execution_count": 0,
   "metadata": {
    "application/vnd.databricks.v1+cell": {
     "cellMetadata": {},
     "inputWidgets": {},
     "nuid": "b66a1b67-989b-4549-8e69-b9f437fd9114",
     "showTitle": false,
     "tableResultSettingsMap": {},
     "title": ""
    }
   },
   "outputs": [],
   "source": [
    "# helper code to extract month date part from date column\n",
    "\n",
    "transactions[\"month\"] = transactions[\"date\"].dt.month\n",
    "\n",
    "transactions.head()"
   ]
  },
  {
   "cell_type": "code",
   "execution_count": 0,
   "metadata": {
    "application/vnd.databricks.v1+cell": {
     "cellMetadata": {},
     "inputWidgets": {},
     "nuid": "ca13d60d-cef3-4833-aa6c-77d78f9e9148",
     "showTitle": false,
     "tableResultSettingsMap": {},
     "title": ""
    }
   },
   "outputs": [],
   "source": [
    "# group by store number and month, sum trasactions\n",
    "\n",
    "(transactions\n",
    " .groupby([\"store_nbr\", \"month\"])[[\"transactions\"]]\n",
    " .sum()\n",
    " .sort_values([\"month\", \"transactions\"], ascending=[True, False] # ascending month, descending transactions\n",
    "))\n"
   ]
  },
  {
   "cell_type": "markdown",
   "metadata": {
    "application/vnd.databricks.v1+cell": {
     "cellMetadata": {},
     "inputWidgets": {},
     "nuid": "48ecc6dc-f1c5-46f9-ae02-d0a06ff44686",
     "showTitle": false,
     "tableResultSettingsMap": {},
     "title": ""
    }
   },
   "source": [
    "# Assignment 3: Multi-Index DataFrames\n",
    "\n",
    "\n",
    "Can you help me access rows and columns with multiple indices? I’ve been struggling with multi-index DataFrames.\n",
    "\n",
    "Access:\n",
    "* Grab Store 3, Month 1\n",
    "* Then, select the column storing the mean of transactions\n",
    "\n",
    "Fix:\n",
    "* Drop the outer layer of the column Index\n",
    "* Reset the row index so it is the default integer index"
   ]
  },
  {
   "cell_type": "code",
   "execution_count": 0,
   "metadata": {
    "application/vnd.databricks.v1+cell": {
     "cellMetadata": {},
     "inputWidgets": {},
     "nuid": "2247e125-b463-49f4-b156-2b5ca36478a8",
     "showTitle": false,
     "tableResultSettingsMap": {},
     "title": ""
    }
   },
   "outputs": [],
   "source": [
    "# Ross' grouped DataFrame code, run this first\n",
    "\n",
    "grouped = (\n",
    "    transactions.groupby([\"store_nbr\", \"month\"])\n",
    "    .agg({\"transactions\": [\"sum\", \"mean\"]})\n",
    "    .sort_values(by=[\"month\", (\"transactions\", \"sum\")], ascending=[True, False])\n",
    ")"
   ]
  },
  {
   "cell_type": "code",
   "execution_count": 0,
   "metadata": {
    "application/vnd.databricks.v1+cell": {
     "cellMetadata": {},
     "inputWidgets": {},
     "nuid": "2084b2f7-ca57-4bd6-b9a0-832e33b3cf4b",
     "showTitle": false,
     "tableResultSettingsMap": {},
     "title": ""
    }
   },
   "outputs": [],
   "source": [
    "# df grouped by store and month with two aggregation columns\n",
    "\n",
    "grouped.head()"
   ]
  },
  {
   "cell_type": "code",
   "execution_count": 0,
   "metadata": {
    "application/vnd.databricks.v1+cell": {
     "cellMetadata": {},
     "inputWidgets": {},
     "nuid": "032b317b-8134-42bb-a529-44030dc089a1",
     "showTitle": false,
     "tableResultSettingsMap": {},
     "title": ""
    }
   },
   "outputs": [],
   "source": [
    "# Grab store 3, month 1 from multi-index (both values are integers)\n",
    "\n",
    "grouped.loc[(3, 1)]"
   ]
  },
  {
   "cell_type": "code",
   "execution_count": 0,
   "metadata": {
    "application/vnd.databricks.v1+cell": {
     "cellMetadata": {},
     "inputWidgets": {},
     "nuid": "25dd7c34-e463-4094-af84-e9d346379a25",
     "showTitle": false,
     "tableResultSettingsMap": {},
     "title": ""
    }
   },
   "outputs": [],
   "source": [
    "# Grab mean column in column multi-index\n",
    "\n",
    "grouped.loc[:, [(\"transactions\", \"mean\")]]"
   ]
  },
  {
   "cell_type": "code",
   "execution_count": 0,
   "metadata": {
    "application/vnd.databricks.v1+cell": {
     "cellMetadata": {},
     "inputWidgets": {},
     "nuid": "592a1d9f-a25a-4e38-9638-4702dbbe4acd",
     "showTitle": false,
     "tableResultSettingsMap": {},
     "title": ""
    }
   },
   "outputs": [],
   "source": [
    "# Drop level from column index (axis=1), then reset index\n",
    "\n",
    "grouped.droplevel(0, axis=1).reset_index()"
   ]
  },
  {
   "cell_type": "markdown",
   "metadata": {
    "application/vnd.databricks.v1+cell": {
     "cellMetadata": {},
     "inputWidgets": {},
     "nuid": "b10ccd73-17dd-40a2-826e-1d709c4db1df",
     "showTitle": false,
     "tableResultSettingsMap": {},
     "title": ""
    }
   },
   "source": [
    "# Assignment 4: The Agg Method\n",
    "\n",
    "Calculate the mean of target met by store, and the sum of bonuses to be paid to each store.\n",
    "\n",
    "Sort them by highest to lowest bonus payout.\n",
    "\n",
    "Then, do the same for day of week and month."
   ]
  },
  {
   "cell_type": "code",
   "execution_count": 0,
   "metadata": {
    "application/vnd.databricks.v1+cell": {
     "cellMetadata": {},
     "inputWidgets": {},
     "nuid": "99209356-e06c-4c58-b06f-1a861a2f1e49",
     "showTitle": false,
     "tableResultSettingsMap": {},
     "title": ""
    }
   },
   "outputs": [],
   "source": [
    "# Recreate table from section 3\n",
    "\n",
    "transactions = transactions.assign(\n",
    "    target_pct=transactions[\"transactions\"] / 2500,\n",
    "    met_target=(transactions[\"transactions\"] / 2500) >= 1,\n",
    "    bonus_payable=((transactions[\"transactions\"] / 2500) >= 1) * 100,\n",
    "    month=transactions.date.dt.month,\n",
    "    day_of_week=transactions.date.dt.dayofweek,\n",
    ")\n",
    "\n",
    "transactions.head()"
   ]
  },
  {
   "cell_type": "code",
   "execution_count": 0,
   "metadata": {
    "application/vnd.databricks.v1+cell": {
     "cellMetadata": {},
     "inputWidgets": {},
     "nuid": "d1dacf4a-a929-4d35-b7fb-d914154acc2e",
     "showTitle": false,
     "tableResultSettingsMap": {},
     "title": ""
    }
   },
   "outputs": [],
   "source": [
    "# Group transactions by store number to get store level stats \n",
    "# use agg to calculate mean of met_target, sum of transactions by store\n",
    "# sort values by bonus payable in descending order\n",
    "\n",
    "(transactions.groupby(\"store_nbr\")\n",
    " .agg({\"met_target\": \"mean\", \"bonus_payable\": \"sum\"})\n",
    " .sort_values(by=[\"bonus_payable\"], ascending=False)\n",
    ")"
   ]
  },
  {
   "cell_type": "code",
   "execution_count": 0,
   "metadata": {
    "application/vnd.databricks.v1+cell": {
     "cellMetadata": {},
     "inputWidgets": {},
     "nuid": "8a59b744-90c3-45b4-a16f-df705f5eb1b4",
     "showTitle": false,
     "tableResultSettingsMap": {},
     "title": ""
    }
   },
   "outputs": [],
   "source": [
    "# Group transactions by month to get month level stats \n",
    "# use agg to calculate mean of met_target, sum of transactions by store\n",
    "# sort values by bonus payable in descending order\n",
    "\n",
    "(transactions.groupby(\"month\")\n",
    " .agg({\"met_target\": \"mean\", \"bonus_payable\": \"sum\"})\n",
    " .sort_values(by=[\"bonus_payable\"], ascending=False)\n",
    ")"
   ]
  },
  {
   "cell_type": "code",
   "execution_count": 0,
   "metadata": {
    "application/vnd.databricks.v1+cell": {
     "cellMetadata": {},
     "inputWidgets": {},
     "nuid": "ef782130-a1e0-4937-b7ee-5cd544ba48af",
     "showTitle": false,
     "tableResultSettingsMap": {},
     "title": ""
    }
   },
   "outputs": [],
   "source": [
    "# Group transactions by day of week to get day of week level stats \n",
    "# use agg to calculate mean of met_target, sum of transactions by store\n",
    "# sort values by bonus payable in descending order\n",
    "\n",
    "(transactions\n",
    " .groupby([\"day_of_week\"])\n",
    " .agg({\"met_target\": \"mean\", \"bonus_payable\": \"sum\"})\n",
    " .sort_values(\"bonus_payable\", ascending=False)\n",
    ")"
   ]
  },
  {
   "cell_type": "markdown",
   "metadata": {
    "application/vnd.databricks.v1+cell": {
     "cellMetadata": {},
     "inputWidgets": {},
     "nuid": "c3e9942c-3785-4cb4-b982-146d48e0356e",
     "showTitle": false,
     "tableResultSettingsMap": {},
     "title": ""
    }
   },
   "source": [
    "# Assignment 4: Transform\n",
    "\n",
    "Calculate the mean of transactions by store number and day of week while keeping row numbers. \n",
    "\n",
    "Then compare the performance of each row to its day of week average. (difference between transactions and daily avg)"
   ]
  },
  {
   "cell_type": "code",
   "execution_count": 0,
   "metadata": {
    "application/vnd.databricks.v1+cell": {
     "cellMetadata": {},
     "inputWidgets": {},
     "nuid": "c124c419-a757-41ae-91b3-36b48add2a16",
     "showTitle": false,
     "tableResultSettingsMap": {},
     "title": ""
    }
   },
   "outputs": [],
   "source": [
    "# Use trasnactions table created in Assignment 3\n",
    "\n",
    "transactions.head()"
   ]
  },
  {
   "cell_type": "code",
   "execution_count": 0,
   "metadata": {
    "application/vnd.databricks.v1+cell": {
     "cellMetadata": {},
     "inputWidgets": {},
     "nuid": "44e9087e-4ae0-4757-b302-50d4af2dcb3f",
     "showTitle": false,
     "tableResultSettingsMap": {},
     "title": ""
    }
   },
   "outputs": [],
   "source": [
    "# Assign method for column creation\n",
    "\n",
    "transactions.assign(\n",
    "    # use transform to create store level average transactions by day\n",
    "    avg_store_transactions = (transactions\n",
    "                              .groupby([\"store_nbr\", \"day_of_week\"])\n",
    "                              [\"transactions\"]\n",
    "                              .transform(\"mean\")),\n",
    "    \n",
    "    # Then create a difference column subtracting the store average from that days transactions\n",
    "    difference = lambda x: x[\"transactions\"] - x[\"avg_store_transactions\"]\n",
    ")"
   ]
  },
  {
   "cell_type": "code",
   "execution_count": 0,
   "metadata": {
    "application/vnd.databricks.v1+cell": {
     "cellMetadata": {},
     "inputWidgets": {},
     "nuid": "cb856502-a58a-45c3-b890-04c6acbbee3c",
     "showTitle": false,
     "tableResultSettingsMap": {},
     "title": ""
    }
   },
   "outputs": [],
   "source": [
    "# Take a peek at store level aggregate values for store 25 to validate column\n",
    "\n",
    "(transactions\n",
    " .query(\"store_nbr == 25\")\n",
    " .groupby([\"day_of_week\"])\n",
    " .agg({\"transactions\": \"mean\"})\n",
    ")"
   ]
  },
  {
   "cell_type": "markdown",
   "metadata": {
    "application/vnd.databricks.v1+cell": {
     "cellMetadata": {},
     "inputWidgets": {},
     "nuid": "c824d360-384b-44fb-b3d0-e477d013a3c9",
     "showTitle": false,
     "tableResultSettingsMap": {},
     "title": ""
    }
   },
   "source": [
    "# Assignment 5: Pivot\n",
    "\n",
    "Pivot transactions with store number as index, columns day of week, with the sum of bonus payable as cells.\n",
    "\n",
    "Filter to stores that had a non-zero bonus payable and create a heatmap.\n",
    "\n",
    "Then unpivot (melt) the table so we have one row for each store and day of the week with the corresponding total owed. \n"
   ]
  },
  {
   "cell_type": "code",
   "execution_count": 0,
   "metadata": {
    "application/vnd.databricks.v1+cell": {
     "cellMetadata": {},
     "inputWidgets": {},
     "nuid": "102a7d6c-1829-4020-aa81-bef8f69f8abb",
     "showTitle": false,
     "tableResultSettingsMap": {},
     "title": ""
    },
    "scrolled": true
   },
   "outputs": [],
   "source": [
    "# Use transactions table (ok if includes columns from assignment 4 or not)\n",
    "\n",
    "transactions.head()"
   ]
  },
  {
   "cell_type": "code",
   "execution_count": 0,
   "metadata": {
    "application/vnd.databricks.v1+cell": {
     "cellMetadata": {},
     "inputWidgets": {},
     "nuid": "2767e79c-75fc-45a2-a556-6eb4b6517cdc",
     "showTitle": false,
     "tableResultSettingsMap": {},
     "title": ""
    },
    "scrolled": true
   },
   "outputs": [],
   "source": [
    "# Filter out all rows with 0 bonus. \n",
    "\n",
    "(transactions.loc[transactions[\"bonus_payable\"] != 0]\n",
    ".pivot_table(\n",
    "    index=\"store_nbr\",       # store number as rows\n",
    "    columns=\"day_of_week\",   # day of week as columns\n",
    "    values=\"bonus_payable\",  # aggregate bonus payable column\n",
    "    aggfunc=\"sum\")           # sum bonus payable\n",
    ".iloc[:10]                   # optional filter to reduce table size\n",
    ".style.background_gradient(cmap=\"RdYlGn\", axis=1 ))  # apply RdYlGn colormap to pivoted DF"
   ]
  },
  {
   "cell_type": "code",
   "execution_count": 0,
   "metadata": {
    "application/vnd.databricks.v1+cell": {
     "cellMetadata": {},
     "inputWidgets": {},
     "nuid": "1a1818e6-225c-4a34-ad5e-2c1814c69274",
     "showTitle": false,
     "tableResultSettingsMap": {},
     "title": ""
    }
   },
   "outputs": [],
   "source": [
    "# Build pivot table from above then melt\n",
    "\n",
    "(transactions\n",
    " .loc[transactions[\"bonus_payable\"] != 0]\n",
    " .pivot_table(index=\"store_nbr\",\n",
    "              columns=\"day_of_week\",\n",
    "              values=\"bonus_payable\",\n",
    "              aggfunc=\"sum\")\n",
    " .reset_index()  # get necessary columns out of index before melting\n",
    " .melt(id_vars=\"store_nbr\", value_name=\"bonus_payable\"))  # specify store_nbr to melt around and name bonus column"
   ]
  }
 ],
 "metadata": {
  "application/vnd.databricks.v1+notebook": {
   "dashboards": [],
   "environmentMetadata": null,
   "language": "python",
   "notebookMetadata": {
    "pythonIndentUnit": 4
   },
   "notebookName": "section04_aggregations_solutions",
   "widgets": {}
  },
  "kernelspec": {
   "display_name": "Python 3 (ipykernel)",
   "language": "python",
   "name": "python3"
  },
  "language_info": {
   "codemirror_mode": {
    "name": "ipython",
    "version": 3
   },
   "file_extension": ".py",
   "mimetype": "text/x-python",
   "name": "python",
   "nbconvert_exporter": "python",
   "pygments_lexer": "ipython3",
   "version": "3.9.7"
  }
 },
 "nbformat": 4,
 "nbformat_minor": 0
}
