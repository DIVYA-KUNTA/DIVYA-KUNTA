{
 "cells": [
  {
   "cell_type": "markdown",
   "metadata": {
    "application/vnd.databricks.v1+cell": {
     "cellMetadata": {},
     "inputWidgets": {},
     "nuid": "7a9105d5-06b5-4128-a2e6-b07ee2564d48",
     "showTitle": false,
     "tableResultSettingsMap": {},
     "title": ""
    }
   },
   "source": [
    "# Final Project\n",
    "\n",
    "Ok, so today we'll be working with the transactions, product, and hh_demographic tables in the project_data folder.\n",
    "\n",
    "* First, read in the transactions data.\n",
    "\n",
    "* Read in the only columns `household_key`, `BASKET_ID`, `DAY`, `PRODUCT_ID`, `QUANTITY`, and `SALES_VALUE`.\n",
    "\n",
    "* Convert `DAY`, `QUANTITY`, and `PRODUCT_ID` to the smallest appropriate integer types.\n"
   ]
  },
  {
   "cell_type": "code",
   "execution_count": 0,
   "metadata": {
    "application/vnd.databricks.v1+cell": {
     "cellMetadata": {},
     "inputWidgets": {},
     "nuid": "b1621f9a-751e-44b7-b9a2-bde7c1c97be8",
     "showTitle": false,
     "tableResultSettingsMap": {},
     "title": ""
    }
   },
   "outputs": [],
   "source": [
    "import pandas as pd\n",
    "import numpy as np"
   ]
  },
  {
   "cell_type": "code",
   "execution_count": 0,
   "metadata": {
    "application/vnd.databricks.v1+cell": {
     "cellMetadata": {},
     "inputWidgets": {},
     "nuid": "edfff2bd-833c-40b0-a0f1-7dfa92dc521e",
     "showTitle": false,
     "tableResultSettingsMap": {},
     "title": ""
    }
   },
   "outputs": [],
   "source": [
    "path = \"../project_data/project_transactions.csv\"\n",
    "\n",
    "# specify columns to keep\n",
    "cols = [\"household_key\", \"BASKET_ID\", \"DAY\", \"PRODUCT_ID\", \"QUANTITY\", \"SALES_VALUE\"]\n",
    "\n",
    "# specify datatypes to convert\n",
    "dtypes = {\"DAY\": \"Int16\", \"QUANTITY\": \"Int32\", \"PRODUCT_ID\": \"Int32\"}\n",
    "\n",
    "transactions = pd.read_csv(path,\n",
    "                           dtype=dtypes,\n",
    "                           usecols=cols\n",
    "                          )"
   ]
  },
  {
   "cell_type": "code",
   "execution_count": 0,
   "metadata": {
    "application/vnd.databricks.v1+cell": {
     "cellMetadata": {},
     "inputWidgets": {},
     "nuid": "700f0c46-0879-4f55-b929-06744196f524",
     "showTitle": false,
     "tableResultSettingsMap": {},
     "title": ""
    }
   },
   "outputs": [],
   "source": [
    "transactions.describe().round()"
   ]
  },
  {
   "cell_type": "code",
   "execution_count": 0,
   "metadata": {
    "application/vnd.databricks.v1+cell": {
     "cellMetadata": {},
     "inputWidgets": {},
     "nuid": "9beef7ac-a259-4ee1-9497-57ce10ef5878",
     "showTitle": false,
     "tableResultSettingsMap": {},
     "title": ""
    }
   },
   "outputs": [],
   "source": [
    "transactions.info(memory_usage=\"deep\")"
   ]
  },
  {
   "cell_type": "code",
   "execution_count": 0,
   "metadata": {
    "application/vnd.databricks.v1+cell": {
     "cellMetadata": {},
     "inputWidgets": {},
     "nuid": "da04c2d7-1c4b-4b1e-b6ae-5ac12faa63bd",
     "showTitle": false,
     "tableResultSettingsMap": {},
     "title": ""
    }
   },
   "outputs": [],
   "source": [
    "# Use the following snippet to create a Date Column then drop. Then drop the `DAY` column.\n",
    "\n",
    "transactions = (transactions\n",
    "                .assign(date = \n",
    "                        (pd.to_datetime(\"2016\", format='%Y') \n",
    "                        + pd.to_timedelta(transactions[\"DAY\"].sub(1).astype(str) + \" days\"))\n",
    "                       )\n",
    "                .drop([\"DAY\"], axis=1)\n",
    "               )"
   ]
  },
  {
   "cell_type": "code",
   "execution_count": 0,
   "metadata": {
    "application/vnd.databricks.v1+cell": {
     "cellMetadata": {},
     "inputWidgets": {},
     "nuid": "5b0ef649-3591-42e3-8219-378c12a22f6a",
     "showTitle": false,
     "tableResultSettingsMap": {},
     "title": ""
    }
   },
   "outputs": [],
   "source": [
    "transactions.head()"
   ]
  },
  {
   "cell_type": "markdown",
   "metadata": {
    "application/vnd.databricks.v1+cell": {
     "cellMetadata": {},
     "inputWidgets": {},
     "nuid": "8a019709-b0f1-4ceb-8df4-7e86b0668a01",
     "showTitle": false,
     "tableResultSettingsMap": {},
     "title": ""
    }
   },
   "source": [
    "## TIME BASED ANALYSIS\n",
    "\n",
    "* Plot the sum of sales by month. Are sales growing over time?\n",
    "* Next, plot the same series after filtering down to dates April 2016 and October 2017.\n",
    "* Then, plot the sum of sales 2016 vs the 2017 sales.\n",
    "* Then, plot total sales by day of week."
   ]
  },
  {
   "cell_type": "code",
   "execution_count": 0,
   "metadata": {
    "application/vnd.databricks.v1+cell": {
     "cellMetadata": {},
     "inputWidgets": {},
     "nuid": "e32162b3-e7a3-459a-982d-53aec881f78c",
     "showTitle": false,
     "tableResultSettingsMap": {},
     "title": ""
    }
   },
   "outputs": [],
   "source": [
    "# Set a date index, graby the sales column, and calculate a monthly sum using resampling.\n",
    "# Then build the default line plot\n",
    "\n",
    "(transactions.set_index(\"date\")\n",
    " .loc[:, \"SALES_VALUE\"]\n",
    " .resample(\"M\")\n",
    " .sum()\n",
    " .plot())"
   ]
  },
  {
   "cell_type": "code",
   "execution_count": 0,
   "metadata": {
    "application/vnd.databricks.v1+cell": {
     "cellMetadata": {},
     "inputWidgets": {},
     "nuid": "68de98e9-34de-4f4d-8c4b-4954947ba041",
     "showTitle": false,
     "tableResultSettingsMap": {},
     "title": ""
    }
   },
   "outputs": [],
   "source": [
    "# Filter above plot to specified date range with row slice in .loc\n",
    "(transactions\n",
    " .set_index(\"date\")\n",
    " .loc[\"2016-04\":\"2017-10\", \"SALES_VALUE\"]\n",
    " .resample(\"M\")\n",
    " .sum()\n",
    " .plot())"
   ]
  },
  {
   "cell_type": "code",
   "execution_count": 0,
   "metadata": {
    "application/vnd.databricks.v1+cell": {
     "cellMetadata": {},
     "inputWidgets": {},
     "nuid": "924b1130-d79f-4e6a-be89-1fa15162ba99",
     "showTitle": false,
     "tableResultSettingsMap": {},
     "title": ""
    },
    "scrolled": true
   },
   "outputs": [],
   "source": [
    "# After resampling monthly sales, create a year_prior column with assign\n",
    "# This column is our monthly sales shifted forward a year (12 rows/months)\n",
    "\n",
    "(transactions\n",
    " .set_index(\"date\")\n",
    " .loc[:, [\"SALES_VALUE\"]]\n",
    " .resample(\"M\")\n",
    " .sum()\n",
    " .assign(year_prior = lambda x: x[\"SALES_VALUE\"].shift(12))\n",
    " .loc[\"2017\"]\n",
    " .plot()\n",
    ")"
   ]
  },
  {
   "cell_type": "code",
   "execution_count": 0,
   "metadata": {
    "application/vnd.databricks.v1+cell": {
     "cellMetadata": {},
     "inputWidgets": {},
     "nuid": "1ccd50be-d852-4a01-9482-e3dd1ee51e5e",
     "showTitle": false,
     "tableResultSettingsMap": {},
     "title": ""
    }
   },
   "outputs": [],
   "source": [
    "# Group transactions by dayofweek, then calculate sum and plot a bar chart\n",
    "(transactions\n",
    " .groupby(transactions[\"date\"].dt.dayofweek)\n",
    " .agg({\"SALES_VALUE\": \"sum\"})\n",
    " .plot.bar()\n",
    ")"
   ]
  },
  {
   "cell_type": "markdown",
   "metadata": {
    "application/vnd.databricks.v1+cell": {
     "cellMetadata": {},
     "inputWidgets": {},
     "nuid": "ce0238bd-2bab-46c5-8806-c662f0a9483f",
     "showTitle": false,
     "tableResultSettingsMap": {},
     "title": ""
    }
   },
   "source": [
    "# DEMOGRAPHICS\n",
    "\n",
    "* Read in the `hh_demographic.csv` file, but only the columns `AGE_DESC`, `INCOME_DESC`, `household_key`, and `HH_COMP_DESC`. Convert the appropriate columns to the category dtype.\n",
    "\n",
    "\n",
    "* Then group the transactions table by household_id, and calculate the sum of SALES VALUE by household.\n",
    "\n",
    "\n",
    "* Once you've done that, join the demographics DataFrame to the transactions table. Since we're interested in analyzing the demographic data we have, make sure not to include rows from transactions that don't match.\n",
    "\n",
    "\n",
    "* Plot the sum of sales by age_desc and income_desc.\n",
    "\n",
    "\n",
    "* Then, create a pivot table of the mean household sales by `AGE_DESC` and `HH_COMP_DESC`. Which of our demographics have the highest average sales?\n"
   ]
  },
  {
   "cell_type": "code",
   "execution_count": 0,
   "metadata": {
    "application/vnd.databricks.v1+cell": {
     "cellMetadata": {},
     "inputWidgets": {},
     "nuid": "a019885a-05ef-4fc2-9c62-6406310f360d",
     "showTitle": false,
     "tableResultSettingsMap": {},
     "title": ""
    }
   },
   "outputs": [],
   "source": [
    "# Specify columns to include \n",
    "dem_cols = [\"AGE_DESC\", \"INCOME_DESC\", \"household_key\", \"HH_COMP_DESC\"]\n",
    "\n",
    "# Convert the object columns here to category dtype\n",
    "dem_dtypes = {\"AGE_DESC\": \"category\", \"INCOME_DESC\": \"category\", \"HH_COMP_DESC\":\"category\"}\n",
    "\n",
    "demographics = pd.read_csv('../project_data/hh_demographic.csv',\n",
    "                          usecols=dem_cols,\n",
    "                          dtype=dem_dtypes\n",
    "                          )"
   ]
  },
  {
   "cell_type": "code",
   "execution_count": 0,
   "metadata": {
    "application/vnd.databricks.v1+cell": {
     "cellMetadata": {},
     "inputWidgets": {},
     "nuid": "720fcc17-92d4-4ff0-b610-cad5f256a53c",
     "showTitle": false,
     "tableResultSettingsMap": {},
     "title": ""
    },
    "scrolled": true
   },
   "outputs": [],
   "source": [
    "demographics.head()"
   ]
  },
  {
   "cell_type": "code",
   "execution_count": 0,
   "metadata": {
    "application/vnd.databricks.v1+cell": {
     "cellMetadata": {},
     "inputWidgets": {},
     "nuid": "6f8cbad8-195b-40b7-8701-aba2295cd148",
     "showTitle": false,
     "tableResultSettingsMap": {},
     "title": ""
    }
   },
   "outputs": [],
   "source": [
    "demographics.info(memory_usage=\"deep\")"
   ]
  },
  {
   "cell_type": "code",
   "execution_count": 0,
   "metadata": {
    "application/vnd.databricks.v1+cell": {
     "cellMetadata": {},
     "inputWidgets": {},
     "nuid": "35a21083-6ed9-4f91-9b26-0e52a1086bfe",
     "showTitle": false,
     "tableResultSettingsMap": {},
     "title": ""
    }
   },
   "outputs": [],
   "source": [
    "# Create total sales by household dataframe\n",
    "\n",
    "household_sales = (transactions\n",
    "                   .groupby(\"household_key\")\n",
    "                   .agg({\"SALES_VALUE\": \"sum\"})\n",
    "                  )\n",
    "\n",
    "household_sales"
   ]
  },
  {
   "cell_type": "code",
   "execution_count": 0,
   "metadata": {
    "application/vnd.databricks.v1+cell": {
     "cellMetadata": {},
     "inputWidgets": {},
     "nuid": "929a2e8c-560b-4ca4-abe9-96cc34858377",
     "showTitle": false,
     "tableResultSettingsMap": {},
     "title": ""
    }
   },
   "outputs": [],
   "source": [
    "# Join household sales and demographics table on household_key (inner since we're interested in both sets)\n",
    "\n",
    "household_sales_demo = (household_sales.merge(demographics, \n",
    "                             how=\"inner\",\n",
    "                             left_on='household_key',\n",
    "                             right_on=\"household_key\",\n",
    "                             )\n",
    "                       )"
   ]
  },
  {
   "cell_type": "code",
   "execution_count": 0,
   "metadata": {
    "application/vnd.databricks.v1+cell": {
     "cellMetadata": {},
     "inputWidgets": {},
     "nuid": "43561265-3a3a-4933-82c3-82031523109e",
     "showTitle": false,
     "tableResultSettingsMap": {},
     "title": ""
    }
   },
   "outputs": [],
   "source": [
    "household_sales_demo.info(memory_usage=\"deep\")"
   ]
  },
  {
   "cell_type": "code",
   "execution_count": 0,
   "metadata": {
    "application/vnd.databricks.v1+cell": {
     "cellMetadata": {},
     "inputWidgets": {},
     "nuid": "a72d1cb7-b625-414a-81a4-0977d19e0bd5",
     "showTitle": false,
     "tableResultSettingsMap": {},
     "title": ""
    }
   },
   "outputs": [],
   "source": [
    "# Calculate sum of sales by age group\n",
    "\n",
    "(household_sales_demo\n",
    ".groupby([\"AGE_DESC\"])\n",
    ".agg({\"SALES_VALUE\": \"sum\"})\n",
    ".plot.bar()\n",
    ")"
   ]
  },
  {
   "cell_type": "code",
   "execution_count": 0,
   "metadata": {
    "application/vnd.databricks.v1+cell": {
     "cellMetadata": {},
     "inputWidgets": {},
     "nuid": "ed91caa1-4a9a-485a-a244-67169d90bdcc",
     "showTitle": false,
     "tableResultSettingsMap": {},
     "title": ""
    }
   },
   "outputs": [],
   "source": [
    "# Calculate sum of sales by income, ordered by magnitude\n",
    "\n",
    "(household_sales_demo\n",
    " .groupby([\"INCOME_DESC\"])\n",
    " .agg({\"SALES_VALUE\": \"sum\"})\n",
    " .sort_values(\"SALES_VALUE\", ascending=False)\n",
    " .plot.bar())"
   ]
  },
  {
   "cell_type": "code",
   "execution_count": 0,
   "metadata": {
    "application/vnd.databricks.v1+cell": {
     "cellMetadata": {},
     "inputWidgets": {},
     "nuid": "5198ce98-566e-449f-8167-4056b398c160",
     "showTitle": false,
     "tableResultSettingsMap": {},
     "title": ""
    }
   },
   "outputs": [],
   "source": [
    "# Calculate mean household spend by Age Description and HH Composition\n",
    "# Format with a heatmap across all cells\n",
    "\n",
    "(household_sales_demo.pivot_table(index=\"AGE_DESC\", \n",
    "                 columns=\"HH_COMP_DESC\",\n",
    "                 values=\"SALES_VALUE\",\n",
    "                 aggfunc=\"mean\",\n",
    "                 margins=True)\n",
    " .style.background_gradient(cmap=\"RdYlGn\", axis=None)\n",
    ")"
   ]
  },
  {
   "cell_type": "code",
   "execution_count": 0,
   "metadata": {
    "application/vnd.databricks.v1+cell": {
     "cellMetadata": {},
     "inputWidgets": {},
     "nuid": "b5240f7a-c9c6-4054-baf5-e8fb77f3cb99",
     "showTitle": false,
     "tableResultSettingsMap": {},
     "title": ""
    }
   },
   "outputs": [],
   "source": [
    "# delete dfs we won't use anymore\n",
    "\n",
    "del [household_sales_demo, household_sales]"
   ]
  },
  {
   "cell_type": "markdown",
   "metadata": {
    "application/vnd.databricks.v1+cell": {
     "cellMetadata": {},
     "inputWidgets": {},
     "nuid": "7d6d1335-c2d0-4dd4-8bdd-167af0bf76dc",
     "showTitle": false,
     "tableResultSettingsMap": {},
     "title": ""
    }
   },
   "source": [
    "# PRODUCT DEMOGRAPHICS\n",
    "\n",
    "* Read in the product csv file.\n",
    "\n",
    "* Only read in product_id and department from product (consider converting columns).\n",
    "\n",
    "* Join the product DataFrame to transactions and demographics tables, performing an inner join when joining both tables.\n",
    "\n",
    "* Finally, pivot the fully joined dataframe by AGE_DESC and DEPARTMENT, calculating the sum of sales. Which category does our youngest demographic perform well in?\n",
    "\n"
   ]
  },
  {
   "cell_type": "code",
   "execution_count": 0,
   "metadata": {
    "application/vnd.databricks.v1+cell": {
     "cellMetadata": {},
     "inputWidgets": {},
     "nuid": "aa0ba24d-dea9-43a0-a818-923129f6bf13",
     "showTitle": false,
     "tableResultSettingsMap": {},
     "title": ""
    }
   },
   "outputs": [],
   "source": [
    "# specify columns to use\n",
    "product_cols = [\"PRODUCT_ID\", \"DEPARTMENT\"]\n",
    "\n",
    "# specify datatypes for each column\n",
    "product_dtypes = {\"PRODUCT_ID\": \"Int32\", \"DEPARTMENT\": \"category\"}\n",
    "\n",
    "product = pd.read_csv('../project_data/product.csv',\n",
    "                     usecols=product_cols,\n",
    "                     dtype=product_dtypes\n",
    "                     )"
   ]
  },
  {
   "cell_type": "code",
   "execution_count": 0,
   "metadata": {
    "application/vnd.databricks.v1+cell": {
     "cellMetadata": {},
     "inputWidgets": {},
     "nuid": "596399c6-9a1b-46d8-a80c-6cf4de9dee7d",
     "showTitle": false,
     "tableResultSettingsMap": {},
     "title": ""
    }
   },
   "outputs": [],
   "source": [
    "product.dtypes"
   ]
  },
  {
   "cell_type": "code",
   "execution_count": 0,
   "metadata": {
    "application/vnd.databricks.v1+cell": {
     "cellMetadata": {},
     "inputWidgets": {},
     "nuid": "a82a9fcb-31ce-47c1-87fe-e55dbfaa50f4",
     "showTitle": false,
     "tableResultSettingsMap": {},
     "title": ""
    }
   },
   "outputs": [],
   "source": [
    "# Join all three tables together with an inner join\n",
    "# Join product on product_id (only shared column)\n",
    "trans_demo_dept = (transactions\n",
    "                  .merge(demographics, \n",
    "                         how=\"inner\",\n",
    "                         left_on='household_key',\n",
    "                         right_on=\"household_key\",)\n",
    "                  .merge(product,\n",
    "                         how=\"inner\",\n",
    "                         left_on=\"PRODUCT_ID\",\n",
    "                         right_on=\"PRODUCT_ID\")\n",
    "             \n",
    "             )"
   ]
  },
  {
   "cell_type": "code",
   "execution_count": 0,
   "metadata": {
    "application/vnd.databricks.v1+cell": {
     "cellMetadata": {},
     "inputWidgets": {},
     "nuid": "c31841c7-874a-4470-9b66-6f3f7bffdc87",
     "showTitle": false,
     "tableResultSettingsMap": {},
     "title": ""
    }
   },
   "outputs": [],
   "source": [
    "# much smaller than our original, uncoverted transactions df!\n",
    "trans_demo_dept.info(memory_usage=\"deep\")"
   ]
  },
  {
   "cell_type": "code",
   "execution_count": 0,
   "metadata": {
    "application/vnd.databricks.v1+cell": {
     "cellMetadata": {},
     "inputWidgets": {},
     "nuid": "095f1ac9-f765-453b-826e-02b9bb2c67b5",
     "showTitle": false,
     "tableResultSettingsMap": {},
     "title": ""
    }
   },
   "outputs": [],
   "source": [
    "# Where does our youngest demographic rank near the top in sales?\n",
    "\n",
    "(trans_demo_dept.pivot_table(index=\"DEPARTMENT\",\n",
    "                            columns=\"AGE_DESC\",\n",
    "                            values=\"SALES_VALUE\",\n",
    "                            aggfunc=\"sum\")\n",
    " .style.background_gradient(cmap=\"RdYlGn\", axis=1))"
   ]
  },
  {
   "cell_type": "markdown",
   "metadata": {
    "application/vnd.databricks.v1+cell": {
     "cellMetadata": {},
     "inputWidgets": {},
     "nuid": "4f800835-7638-4281-8ef7-d973499c2a30",
     "showTitle": false,
     "tableResultSettingsMap": {},
     "title": ""
    }
   },
   "source": [
    "# EXPORT\n",
    "\n",
    "Finally, export your pivot table to an excel file. Make sure to provide a sheet name."
   ]
  },
  {
   "cell_type": "code",
   "execution_count": 0,
   "metadata": {
    "application/vnd.databricks.v1+cell": {
     "cellMetadata": {},
     "inputWidgets": {},
     "nuid": "517d8a5c-9096-4cbd-8c11-a467b5105ec8",
     "showTitle": false,
     "tableResultSettingsMap": {},
     "title": ""
    }
   },
   "outputs": [],
   "source": [
    "# Call to_excel on pivot table above - note the formatting gets passed to excel too!\n",
    "\n",
    "(trans_demo_dept.pivot_table(index=\"DEPARTMENT\",\n",
    "                            columns=\"AGE_DESC\",\n",
    "                            values=\"SALES_VALUE\",\n",
    "                            aggfunc=\"sum\")\n",
    " .style.background_gradient(cmap=\"RdYlGn\", axis=1)\n",
    " .to_excel(\"demographic_category_sales.xlsx\", sheet_name=\"sales_pivot\")\n",
    ")"
   ]
  },
  {
   "cell_type": "code",
   "execution_count": 0,
   "metadata": {
    "application/vnd.databricks.v1+cell": {
     "cellMetadata": {},
     "inputWidgets": {},
     "nuid": "cbb3ac21-7b31-4804-a66b-bbc7431b28b1",
     "showTitle": false,
     "tableResultSettingsMap": {},
     "title": ""
    }
   },
   "outputs": [],
   "source": []
  }
 ],
 "metadata": {
  "application/vnd.databricks.v1+notebook": {
   "dashboards": [],
   "environmentMetadata": null,
   "language": "python",
   "notebookMetadata": {},
   "notebookName": "section10_final_project_sols",
   "widgets": {}
  },
  "kernelspec": {
   "display_name": "Python 3 (ipykernel)",
   "language": "python",
   "name": "python3"
  },
  "language_info": {
   "codemirror_mode": {
    "name": "ipython",
    "version": 3
   },
   "file_extension": ".py",
   "mimetype": "text/x-python",
   "name": "python",
   "nbconvert_exporter": "python",
   "pygments_lexer": "ipython3",
   "version": "3.9.7"
  }
 },
 "nbformat": 4,
 "nbformat_minor": 0
}
