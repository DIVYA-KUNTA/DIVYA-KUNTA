{
 "cells": [
  {
   "cell_type": "code",
   "execution_count": 0,
   "metadata": {
    "application/vnd.databricks.v1+cell": {
     "cellMetadata": {
      "byteLimit": 2048000,
      "rowLimit": 10000
     },
     "inputWidgets": {},
     "nuid": "099ad287-2e7d-4139-8be9-047f4d922c8b",
     "showTitle": false,
     "tableResultSettingsMap": {},
     "title": ""
    }
   },
   "outputs": [],
   "source": [
    "import pandas as pd"
   ]
  },
  {
   "cell_type": "markdown",
   "metadata": {
    "application/vnd.databricks.v1+cell": {
     "cellMetadata": {
      "byteLimit": 2048000,
      "rowLimit": 10000
     },
     "inputWidgets": {},
     "nuid": "f0efa592-1b24-4a78-bc5a-282d7b41db21",
     "showTitle": false,
     "tableResultSettingsMap": {},
     "title": ""
    }
   },
   "source": [
    "# Assignment 1: Streamlined Data Ingestion\n",
    "\n",
    "Now that we have a good idea of what we want the data prep on transactions looks like,\n",
    "let's push that to the read_csv function. \n",
    "\n",
    "Keep an eye on the memory usage before and after. \n",
    "\n",
    "* Change the column names to 'Date', 'Store_Number', and 'Transaction_Count'.\n",
    "* Skip the first row of data.\n",
    "* Convert columns to the appropriate datatypes. \n",
    "\n",
    "Then create the columns we created in the assign assignment in Section 3, by chaining assign with read_csv. \n",
    "\n",
    "Some starter code has been provided for you below. Because the dataframe object returned by read_csv doesn't have a name, we need to use a lambda function to refer to the dataframe.\n",
    "\n",
    "`transactions.assign(\n",
    "    target_pct=transactions[\"transactions\"] / 2500,\n",
    "    met_target=(transactions[\"transactions\"] / 2500) >= 1,\n",
    "    bonus_payable=((transactions[\"transactions\"] / 2500) >= 1) * 100,\n",
    "    month=transactions[\"date\"].dt.month,\n",
    "    day_of_week=transactions[\"date\"].dt.dayofweek,\n",
    ")`\n",
    "\n",
    "The first one should look like:\n",
    "\n",
    "`target_pct = lambda x: (x[\"Transaction_Count\"] / 2500)`\n"
   ]
  },
  {
   "cell_type": "code",
   "execution_count": 0,
   "metadata": {
    "application/vnd.databricks.v1+cell": {
     "cellMetadata": {
      "byteLimit": 2048000,
      "rowLimit": 10000
     },
     "inputWidgets": {},
     "nuid": "86d01471-58ad-4650-9d12-64b7f806864a",
     "showTitle": false,
     "tableResultSettingsMap": {},
     "title": ""
    }
   },
   "outputs": [],
   "source": [
    "# expand on the code below...\n",
    "\n",
    "transactions = pd.read_csv(\"../retail/transactions.csv\",\n",
    "                           names=['Date', 'Store_Number',\n",
    "                                  'Transaction_Count'],\n",
    "                           skiprows=1,\n",
    "                           parse_dates=['Date'],\n",
    "                           dtype={'Store_Number' : 'int32',\n",
    "                                  'Transaction_Count' : 'int32'}\n",
    "                           )"
   ]
  },
  {
   "cell_type": "code",
   "execution_count": 0,
   "metadata": {
    "application/vnd.databricks.v1+cell": {
     "cellMetadata": {
      "byteLimit": 2048000,
      "rowLimit": 10000
     },
     "inputWidgets": {},
     "nuid": "a6990ed4-cdbb-48d0-89cb-3cf784f27cef",
     "showTitle": false,
     "tableResultSettingsMap": {},
     "title": ""
    }
   },
   "outputs": [],
   "source": [
    "transactions = transactions.assign(target_pct=lambda x: x\n",
    "                                   ['Transaction_Count'] / 2500,\n",
    "                                   met_target=lambda x: (x\n",
    "                                   ['Transaction_Count'] / 2500) >=\n",
    "                                   1,\n",
    "                                   bonus_Payable=lambda x: ((x\n",
    "                                    ['Transaction_Count'] / 2500) >=\n",
    "                                    1) * 100,                                                 \n",
    "                                     \n",
    "                                     month=lambda x: x['Date'].dt.month,\n",
    "                                   day_of_week=lambda x: x['Date'].\n",
    "                                   dt.dayofweek\n",
    "                                \n",
    "                                )\n",
    "\n",
    "                               "
   ]
  },
  {
   "cell_type": "code",
   "execution_count": 0,
   "metadata": {
    "application/vnd.databricks.v1+cell": {
     "cellMetadata": {
      "byteLimit": 2048000,
      "rowLimit": 10000
     },
     "inputWidgets": {},
     "nuid": "8fb47731-8b3f-4a91-9db8-8298ab5c93b2",
     "showTitle": false,
     "tableResultSettingsMap": {},
     "title": ""
    }
   },
   "outputs": [],
   "source": [
    "transactions"
   ]
  },
  {
   "cell_type": "markdown",
   "metadata": {
    "application/vnd.databricks.v1+cell": {
     "cellMetadata": {
      "byteLimit": 2048000,
      "rowLimit": 10000
     },
     "inputWidgets": {},
     "nuid": "857ab595-f5e8-4e8b-84eb-5eaf59e051bc",
     "showTitle": false,
     "tableResultSettingsMap": {},
     "title": ""
    }
   },
   "source": [
    "# Assignment 2: Write to Excel Sheets\n",
    "\n",
    "Write the data in the transactions dataframe you created above into an Excel workbook.\n",
    "\n",
    "Write out a separate sheet for each year of the data.\n",
    "\n",
    "If you prefer, you can write each year of data to a separate csv file."
   ]
  },
  {
   "cell_type": "code",
   "execution_count": 0,
   "metadata": {
    "application/vnd.databricks.v1+cell": {
     "cellMetadata": {
      "byteLimit": 2048000,
      "rowLimit": 10000
     },
     "inputWidgets": {},
     "nuid": "c2a6fad3-97cc-4364-b950-4617a97a67d8",
     "showTitle": false,
     "tableResultSettingsMap": {},
     "title": ""
    }
   },
   "outputs": [],
   "source": [
    "transactions.head()"
   ]
  },
  {
   "cell_type": "code",
   "execution_count": 0,
   "metadata": {
    "application/vnd.databricks.v1+cell": {
     "cellMetadata": {
      "byteLimit": 2048000,
      "rowLimit": 10000
     },
     "inputWidgets": {},
     "nuid": "78c0d8aa-2bb4-468d-bc31-b72478411f9b",
     "showTitle": false,
     "tableResultSettingsMap": {},
     "title": ""
    }
   },
   "outputs": [],
   "source": [
    "transactions.tail()"
   ]
  },
  {
   "cell_type": "code",
   "execution_count": 0,
   "metadata": {
    "application/vnd.databricks.v1+cell": {
     "cellMetadata": {
      "byteLimit": 2048000,
      "rowLimit": 10000
     },
     "inputWidgets": {},
     "nuid": "9e664404-daca-4d16-8b1f-592c887fba3e",
     "showTitle": false,
     "tableResultSettingsMap": {},
     "title": ""
    }
   },
   "outputs": [],
   "source": []
  }
 ],
 "metadata": {
  "application/vnd.databricks.v1+notebook": {
   "dashboards": [],
   "environmentMetadata": null,
   "language": "python",
   "notebookMetadata": {
    "pythonIndentUnit": 2
   },
   "notebookName": "section08_import_export",
   "widgets": {}
  },
  "kernelspec": {
   "display_name": "Python 3 (ipykernel)",
   "language": "python",
   "name": "python3"
  },
  "language_info": {
   "name": "python"
  }
 },
 "nbformat": 4,
 "nbformat_minor": 0
}
