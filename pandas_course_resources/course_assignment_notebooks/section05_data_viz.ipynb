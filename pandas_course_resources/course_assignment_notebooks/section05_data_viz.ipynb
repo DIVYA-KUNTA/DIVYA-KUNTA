{
 "cells": [
  {
   "cell_type": "code",
   "execution_count": 0,
   "metadata": {
    "application/vnd.databricks.v1+cell": {
     "cellMetadata": {
      "byteLimit": 2048000,
      "rowLimit": 10000
     },
     "inputWidgets": {},
     "nuid": "17590b73-7104-4fea-9bfd-cd140282295f",
     "showTitle": false,
     "title": ""
    }
   },
   "outputs": [],
   "source": [
    "import pandas as pd"
   ]
  },
  {
   "cell_type": "code",
   "execution_count": 0,
   "metadata": {
    "application/vnd.databricks.v1+cell": {
     "cellMetadata": {
      "byteLimit": 2048000,
      "rowLimit": 10000
     },
     "inputWidgets": {},
     "nuid": "077eef4f-da67-46fe-b57b-7908f1c870ca",
     "showTitle": false,
     "title": ""
    }
   },
   "outputs": [],
   "source": [
    "oil = pd.read_csv(\"../retail/oil.csv\")"
   ]
  },
  {
   "cell_type": "markdown",
   "metadata": {
    "application/vnd.databricks.v1+cell": {
     "cellMetadata": {},
     "inputWidgets": {},
     "nuid": "6ba0599b-5e3e-4df3-8caa-7570f5f13a8c",
     "showTitle": false,
     "title": ""
    }
   },
   "source": [
    "# Assignment 1: Simple Line Chart\n",
    "\n",
    "Build a simple line plot for the oil series. Are there any interesting patterns here? \n",
    "\n",
    "What happened in 2014 to oil price?"
   ]
  },
  {
   "cell_type": "code",
   "execution_count": 0,
   "metadata": {
    "application/vnd.databricks.v1+cell": {
     "cellMetadata": {
      "byteLimit": 2048000,
      "rowLimit": 10000
     },
     "inputWidgets": {},
     "nuid": "558110fc-7dce-43df-971d-3165e6209c8d",
     "showTitle": false,
     "title": ""
    }
   },
   "outputs": [],
   "source": [
    "oil.head()"
   ]
  },
  {
   "cell_type": "code",
   "execution_count": 0,
   "metadata": {
    "application/vnd.databricks.v1+cell": {
     "cellMetadata": {
      "byteLimit": 2048000,
      "rowLimit": 10000
     },
     "inputWidgets": {},
     "nuid": "c6e1d410-fcb3-46cf-a942-ff43b99c50cd",
     "showTitle": false,
     "title": ""
    }
   },
   "outputs": [],
   "source": [
    "oil.set_index(['date']).plot()"
   ]
  },
  {
   "cell_type": "code",
   "execution_count": 0,
   "metadata": {
    "application/vnd.databricks.v1+cell": {
     "cellMetadata": {
      "byteLimit": 2048000,
      "rowLimit": 10000
     },
     "inputWidgets": {},
     "nuid": "8c206ef0-bf2a-4725-a474-ac0389b4d680",
     "showTitle": false,
     "title": ""
    }
   },
   "outputs": [],
   "source": [
    "oil.astype({'date': 'datetime64'}).set_index('date').loc['2013':'2014'].plot()"
   ]
  },
  {
   "cell_type": "markdown",
   "metadata": {
    "application/vnd.databricks.v1+cell": {
     "cellMetadata": {},
     "inputWidgets": {},
     "nuid": "61a6d182-b44f-4eba-93a8-726e13b3a3a8",
     "showTitle": false,
     "title": ""
    }
   },
   "source": [
    "# Assignment 2: Upgraded Line Chart\n",
    "\n",
    "\n",
    "Give your chart a style, add axis titles, and change the color of the line to black. \n",
    "\n",
    "Consider converting the date column to datetime64.\n",
    "\n",
    "Rename the column to a more intuitive name for the audience."
   ]
  },
  {
   "cell_type": "code",
   "execution_count": 0,
   "metadata": {
    "application/vnd.databricks.v1+cell": {
     "cellMetadata": {
      "byteLimit": 2048000,
      "rowLimit": 10000
     },
     "inputWidgets": {},
     "nuid": "f6d430b5-10dc-4e17-8999-7b7d4085ae7d",
     "showTitle": false,
     "title": ""
    }
   },
   "outputs": [],
   "source": [
    "import pandas as pd"
   ]
  },
  {
   "cell_type": "code",
   "execution_count": 0,
   "metadata": {
    "application/vnd.databricks.v1+cell": {
     "cellMetadata": {
      "byteLimit": 2048000,
      "rowLimit": 10000
     },
     "inputWidgets": {},
     "nuid": "15d04d87-d630-4dc9-9006-56c3f47d66a7",
     "showTitle": false,
     "title": ""
    }
   },
   "outputs": [],
   "source": [
    "oil=pd.read_csv('/Workspace/Users/ranjeeth.rikkala@ascentt.com/Programming/pandas_course_resources/retail/oil.csv')"
   ]
  },
  {
   "cell_type": "code",
   "execution_count": 0,
   "metadata": {
    "application/vnd.databricks.v1+cell": {
     "cellMetadata": {
      "byteLimit": 2048000,
      "rowLimit": 10000
     },
     "inputWidgets": {},
     "nuid": "53da6da9-116a-479b-b74a-17fd28d97a5c",
     "showTitle": false,
     "title": ""
    }
   },
   "outputs": [],
   "source": [
    "oil.head()"
   ]
  },
  {
   "cell_type": "code",
   "execution_count": 0,
   "metadata": {
    "application/vnd.databricks.v1+cell": {
     "cellMetadata": {
      "byteLimit": 2048000,
      "rowLimit": 10000
     },
     "inputWidgets": {},
     "nuid": "5a8e0624-6e5b-4beb-8ad2-0cc09bc96638",
     "showTitle": false,
     "title": ""
    }
   },
   "outputs": [],
   "source": [
    "import seaborn as sns\n",
    "\n",
    "sns.set_style('darkgrid')"
   ]
  },
  {
   "cell_type": "code",
   "execution_count": 0,
   "metadata": {
    "application/vnd.databricks.v1+cell": {
     "cellMetadata": {
      "byteLimit": 2048000,
      "rowLimit": 10000
     },
     "inputWidgets": {},
     "nuid": "0f4799fd-2759-443f-a82e-55c000127828",
     "showTitle": false,
     "title": ""
    }
   },
   "outputs": [],
   "source": [
    "oil = oil.rename(columns={'dcoilwtico' : 'oil price'})\n",
    "oil"
   ]
  },
  {
   "cell_type": "code",
   "execution_count": 0,
   "metadata": {
    "application/vnd.databricks.v1+cell": {
     "cellMetadata": {
      "byteLimit": 2048000,
      "rowLimit": 10000
     },
     "inputWidgets": {},
     "nuid": "477e3e7f-c208-4801-b331-8411a2a5dee7",
     "showTitle": false,
     "title": ""
    }
   },
   "outputs": [],
   "source": [
    "oil['date'] = pd.to_datetime(oil['date'])"
   ]
  },
  {
   "cell_type": "code",
   "execution_count": 0,
   "metadata": {
    "application/vnd.databricks.v1+cell": {
     "cellMetadata": {
      "byteLimit": 2048000,
      "rowLimit": 10000
     },
     "inputWidgets": {},
     "nuid": "19b45f75-9247-4c32-bab6-df1e4e7927ae",
     "showTitle": false,
     "title": ""
    }
   },
   "outputs": [],
   "source": [
    "oil.set_index('date').plot(\n",
    "title='oil price 2013-2017',\n",
    "xlabel='date',\n",
    "ylabel='USD price',\n",
    "color='black')"
   ]
  },
  {
   "cell_type": "code",
   "execution_count": 0,
   "metadata": {
    "application/vnd.databricks.v1+cell": {
     "cellMetadata": {},
     "inputWidgets": {},
     "nuid": "041f977b-1f97-41b6-ab3b-8011d216245f",
     "showTitle": false,
     "title": ""
    }
   },
   "outputs": [],
   "source": []
  },
  {
   "cell_type": "code",
   "execution_count": 0,
   "metadata": {
    "application/vnd.databricks.v1+cell": {
     "cellMetadata": {},
     "inputWidgets": {},
     "nuid": "045c251e-148f-4760-bfc0-07aa7a9c2e26",
     "showTitle": false,
     "title": ""
    }
   },
   "outputs": [],
   "source": []
  },
  {
   "cell_type": "markdown",
   "metadata": {
    "application/vnd.databricks.v1+cell": {
     "cellMetadata": {},
     "inputWidgets": {},
     "nuid": "223e81f2-6da0-4cf2-abc9-b484490ca234",
     "showTitle": false,
     "title": ""
    }
   },
   "source": [
    "# Assignment 3: Subplots\n",
    "\n",
    "Filter the transactions table to stores 1, 2, 3 and 4, then reshape it so each row is a date, and the columns of the table are the transactions for each store. \n",
    "\n",
    "Once you've done that, create a 2x2 line plot of transactions vs time, with one plot for each store.\n",
    "\n",
    "Thanks!"
   ]
  },
  {
   "cell_type": "code",
   "execution_count": 0,
   "metadata": {
    "application/vnd.databricks.v1+cell": {
     "cellMetadata": {},
     "inputWidgets": {},
     "nuid": "60c265ff-9d05-4a73-bf2f-91910366f193",
     "showTitle": false,
     "title": ""
    }
   },
   "outputs": [],
   "source": [
    "transactions = pd.read_csv(\"../retail/transactions.csv\")"
   ]
  },
  {
   "cell_type": "code",
   "execution_count": 0,
   "metadata": {
    "application/vnd.databricks.v1+cell": {
     "cellMetadata": {},
     "inputWidgets": {},
     "nuid": "db7167ad-21fc-4f40-85d1-af9f0b899f36",
     "showTitle": false,
     "title": ""
    },
    "scrolled": true
   },
   "outputs": [],
   "source": []
  },
  {
   "cell_type": "code",
   "execution_count": 0,
   "metadata": {
    "application/vnd.databricks.v1+cell": {
     "cellMetadata": {},
     "inputWidgets": {},
     "nuid": "c26833f8-c30d-497c-b1e9-31d4f23cbe30",
     "showTitle": false,
     "title": ""
    },
    "scrolled": true
   },
   "outputs": [],
   "source": []
  },
  {
   "cell_type": "markdown",
   "metadata": {
    "application/vnd.databricks.v1+cell": {
     "cellMetadata": {},
     "inputWidgets": {},
     "nuid": "c05f0f6b-899f-4e49-886c-8172f778c826",
     "showTitle": false,
     "title": ""
    }
   },
   "source": [
    "# Assignment 4: Bar Charts\n",
    "\n",
    "Create a sorted Bar chart of total sales by store number for stores 1, 2, 3 and 4.\n",
    "\n",
    "Then create a horizontal stacked bar chart of sales by month, stacked by store number. "
   ]
  },
  {
   "cell_type": "code",
   "execution_count": 0,
   "metadata": {
    "application/vnd.databricks.v1+cell": {
     "cellMetadata": {},
     "inputWidgets": {},
     "nuid": "3ccf13e0-6640-4f5e-8149-2e17e319365b",
     "showTitle": false,
     "title": ""
    }
   },
   "outputs": [],
   "source": [
    "# convert dates to datetime64\n",
    "\n",
    "stores_1234.index = stores_1234.index.astype(\"datetime64[ns]\") \n",
    "\n",
    "stores_1234"
   ]
  },
  {
   "cell_type": "code",
   "execution_count": 0,
   "metadata": {
    "application/vnd.databricks.v1+cell": {
     "cellMetadata": {},
     "inputWidgets": {},
     "nuid": "04d85d3a-d483-47da-b93a-5292f37e2907",
     "showTitle": false,
     "title": ""
    }
   },
   "outputs": [],
   "source": [
    "# stores_1234.index.month will allow you to groupby the month! You can also slice it.\n"
   ]
  },
  {
   "cell_type": "code",
   "execution_count": 0,
   "metadata": {
    "application/vnd.databricks.v1+cell": {
     "cellMetadata": {},
     "inputWidgets": {},
     "nuid": "a6b91e42-7259-4203-aa67-7b3a3ba8267d",
     "showTitle": false,
     "title": ""
    }
   },
   "outputs": [],
   "source": []
  },
  {
   "cell_type": "markdown",
   "metadata": {
    "application/vnd.databricks.v1+cell": {
     "cellMetadata": {},
     "inputWidgets": {},
     "nuid": "75fbb8a3-8915-492d-b6f2-364fb15aa444",
     "showTitle": false,
     "title": ""
    }
   },
   "source": [
    "# Assignment 5: Scatterplots\n",
    "\n",
    "Plot the relationship between store 2 and store 3 sales.\n",
    "\n",
    "Color the dots by month.\n",
    "\n",
    "Use `c=stores_1234.index.month` to do so."
   ]
  },
  {
   "cell_type": "code",
   "execution_count": 0,
   "metadata": {
    "application/vnd.databricks.v1+cell": {
     "cellMetadata": {},
     "inputWidgets": {},
     "nuid": "b74853d7-b804-4690-82a7-471382b7c6fc",
     "showTitle": false,
     "title": ""
    }
   },
   "outputs": [],
   "source": [
    "stores_1234.head()"
   ]
  },
  {
   "cell_type": "code",
   "execution_count": 0,
   "metadata": {
    "application/vnd.databricks.v1+cell": {
     "cellMetadata": {},
     "inputWidgets": {},
     "nuid": "a2581119-4afd-41b9-8297-dd22c419aa89",
     "showTitle": false,
     "title": ""
    },
    "scrolled": true
   },
   "outputs": [],
   "source": []
  },
  {
   "cell_type": "code",
   "execution_count": 0,
   "metadata": {
    "application/vnd.databricks.v1+cell": {
     "cellMetadata": {},
     "inputWidgets": {},
     "nuid": "5f6cf561-2094-4a9f-abe1-35be84d53d32",
     "showTitle": false,
     "title": ""
    }
   },
   "outputs": [],
   "source": []
  },
  {
   "cell_type": "code",
   "execution_count": 0,
   "metadata": {
    "application/vnd.databricks.v1+cell": {
     "cellMetadata": {},
     "inputWidgets": {},
     "nuid": "1863ae26-8be0-471a-a1d8-2b38f0f8cf5c",
     "showTitle": false,
     "title": ""
    }
   },
   "outputs": [],
   "source": []
  },
  {
   "cell_type": "markdown",
   "metadata": {
    "application/vnd.databricks.v1+cell": {
     "cellMetadata": {},
     "inputWidgets": {},
     "nuid": "b73cfba9-e88e-4127-8e89-ae0ea2b21327",
     "showTitle": false,
     "title": ""
    }
   },
   "source": [
    "# Assignment 6: Histograms\n",
    "\n",
    "Hi there,\n",
    "\n",
    "Can you plot the distributions of sales for stores 2 and 3?\n",
    "\n",
    "I want to see how often store 2 has sales similar to store 3, as well as if there are any outlier type days.\n",
    "\n",
    "Thanks!\n"
   ]
  },
  {
   "cell_type": "code",
   "execution_count": 0,
   "metadata": {
    "application/vnd.databricks.v1+cell": {
     "cellMetadata": {},
     "inputWidgets": {},
     "nuid": "1ce89f2a-00f9-4e32-95c5-63c299cbe4dd",
     "showTitle": false,
     "title": ""
    }
   },
   "outputs": [],
   "source": [
    "stores_1234.head()"
   ]
  },
  {
   "cell_type": "code",
   "execution_count": 0,
   "metadata": {
    "application/vnd.databricks.v1+cell": {
     "cellMetadata": {},
     "inputWidgets": {},
     "nuid": "b63491f8-2a31-4131-88da-2e3986862a60",
     "showTitle": false,
     "title": ""
    },
    "scrolled": true
   },
   "outputs": [],
   "source": []
  },
  {
   "cell_type": "code",
   "execution_count": 0,
   "metadata": {
    "application/vnd.databricks.v1+cell": {
     "cellMetadata": {},
     "inputWidgets": {},
     "nuid": "530682a1-fe79-4196-a593-256731b3121b",
     "showTitle": false,
     "title": ""
    }
   },
   "outputs": [],
   "source": []
  }
 ],
 "metadata": {
  "application/vnd.databricks.v1+notebook": {
   "dashboards": [],
   "environmentMetadata": null,
   "language": "python",
   "notebookMetadata": {
    "pythonIndentUnit": 4
   },
   "notebookName": "section05_data_viz",
   "widgets": {}
  },
  "kernelspec": {
   "display_name": "Python 3 (ipykernel)",
   "language": "python",
   "name": "python3"
  },
  "language_info": {
   "codemirror_mode": {
    "name": "ipython",
    "version": 3
   },
   "file_extension": ".py",
   "mimetype": "text/x-python",
   "name": "python",
   "nbconvert_exporter": "python",
   "pygments_lexer": "ipython3",
   "version": "3.9.7"
  }
 },
 "nbformat": 4,
 "nbformat_minor": 0
}
