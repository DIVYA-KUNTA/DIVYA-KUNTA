{
 "cells": [
  {
   "cell_type": "code",
   "execution_count": 0,
   "metadata": {
    "application/vnd.databricks.v1+cell": {
     "cellMetadata": {},
     "inputWidgets": {},
     "nuid": "ab9a00f7-7be6-4642-8de3-3a553de2e7af",
     "showTitle": false,
     "tableResultSettingsMap": {},
     "title": ""
    }
   },
   "outputs": [],
   "source": [
    "import pandas as pd"
   ]
  },
  {
   "cell_type": "markdown",
   "metadata": {
    "application/vnd.databricks.v1+cell": {
     "cellMetadata": {},
     "inputWidgets": {},
     "nuid": "1802f8eb-5ff7-4bab-9187-355909ad76ca",
     "showTitle": false,
     "tableResultSettingsMap": {},
     "title": ""
    }
   },
   "source": [
    "# Assignment 1: Date Formats and Date Parts\n",
    "\n",
    "* First, convert the `date` column to datetime64, by any method.\n",
    "\n",
    "* Then, create a column representing the time difference between the last date in the data and each date. \n",
    "\n",
    "* Next, create columns for the date parts year, month, and weekday.\n",
    "\n",
    "* Finally, format the date to Year-Month-Day (This will be a string/object)."
   ]
  },
  {
   "cell_type": "code",
   "execution_count": 0,
   "metadata": {
    "application/vnd.databricks.v1+cell": {
     "cellMetadata": {},
     "inputWidgets": {},
     "nuid": "6813197d-5b34-4870-a21b-5463f53c876c",
     "showTitle": false,
     "tableResultSettingsMap": {},
     "title": ""
    }
   },
   "outputs": [],
   "source": [
    "# conversion with parse dates in read_csv\n",
    "\n",
    "transactions = pd.read_csv(\"../retail/transactions.csv\", parse_dates=[\"date\"])"
   ]
  },
  {
   "cell_type": "code",
   "execution_count": 0,
   "metadata": {
    "application/vnd.databricks.v1+cell": {
     "cellMetadata": {},
     "inputWidgets": {},
     "nuid": "d48c4523-0ca0-4385-a66d-aeafb92dc2b3",
     "showTitle": false,
     "tableResultSettingsMap": {},
     "title": ""
    }
   },
   "outputs": [],
   "source": [
    "# conversion with to_datetime\n",
    "transactions[\"date\"] = pd.to_datetime(transactions[\"date\"])"
   ]
  },
  {
   "cell_type": "code",
   "execution_count": 0,
   "metadata": {
    "application/vnd.databricks.v1+cell": {
     "cellMetadata": {},
     "inputWidgets": {},
     "nuid": "860bc24b-77f8-44cd-8f07-e7dd1b081f72",
     "showTitle": false,
     "tableResultSettingsMap": {},
     "title": ""
    }
   },
   "outputs": [],
   "source": [
    "# conversion with astype\n",
    "\n",
    "transactions[\"date\"] = transactions[\"date\"].astype(\"datetime64\")"
   ]
  },
  {
   "cell_type": "code",
   "execution_count": 0,
   "metadata": {
    "application/vnd.databricks.v1+cell": {
     "cellMetadata": {},
     "inputWidgets": {},
     "nuid": "739cd49e-3b9f-437d-904a-af4d3fc9a05a",
     "showTitle": false,
     "tableResultSettingsMap": {},
     "title": ""
    }
   },
   "outputs": [],
   "source": [
    "transactions.info()"
   ]
  },
  {
   "cell_type": "code",
   "execution_count": 0,
   "metadata": {
    "application/vnd.databricks.v1+cell": {
     "cellMetadata": {},
     "inputWidgets": {},
     "nuid": "a0423614-76de-40d9-9736-d3586e346bb8",
     "showTitle": false,
     "tableResultSettingsMap": {},
     "title": ""
    }
   },
   "outputs": [],
   "source": [
    "transactions.head()"
   ]
  },
  {
   "cell_type": "code",
   "execution_count": 0,
   "metadata": {
    "application/vnd.databricks.v1+cell": {
     "cellMetadata": {},
     "inputWidgets": {},
     "nuid": "417872bc-51ec-4103-8343-84b1d5076a9e",
     "showTitle": false,
     "tableResultSettingsMap": {},
     "title": ""
    }
   },
   "outputs": [],
   "source": [
    "# Calcualte the maximum datetime\n",
    "transactions[\"date\"].max()"
   ]
  },
  {
   "cell_type": "code",
   "execution_count": 0,
   "metadata": {
    "application/vnd.databricks.v1+cell": {
     "cellMetadata": {},
     "inputWidgets": {},
     "nuid": "d2ea88cc-90f0-4f72-8ba4-60e0e98919a9",
     "showTitle": false,
     "tableResultSettingsMap": {},
     "title": ""
    }
   },
   "outputs": [],
   "source": [
    "# Difference between date and max date\n",
    "transactions[\"time_to_last_date\"] = transactions[\"date\"].max() - transactions[\"date\"]\n",
    "\n",
    "# Dateparts\n",
    "transactions[\"year\"] = transactions[\"date\"].dt.year\n",
    "transactions[\"month\"] = transactions[\"date\"].dt.month\n",
    "transactions[\"day_of_week\"] = transactions[\"date\"].dt.weekday\n",
    "\n",
    "# Format Date\n",
    "transactions[\"date\"] = transactions[\"date\"].dt.strftime(\"%Y-%B-%d\")\n",
    "\n",
    "transactions.head()"
   ]
  },
  {
   "cell_type": "markdown",
   "metadata": {
    "application/vnd.databricks.v1+cell": {
     "cellMetadata": {},
     "inputWidgets": {},
     "nuid": "d10afa06-2eb3-4ac0-8675-ae920034365f",
     "showTitle": false,
     "tableResultSettingsMap": {},
     "title": ""
    }
   },
   "source": [
    "# Assignment 2: Time Arithmetic\n",
    "\n",
    "\n",
    "Hi again,\n",
    "\n",
    "I just got word the the true max date in our data was three weeks after 2017-08-15.\n",
    "\n",
    "* Can you add three weeks to the ‘time_to_last_date’ column? \n",
    "* Then, calculate ‘weeks_to_last_date’ by dividing the number of days  in ‘time_to_last_date’ by 7.\n",
    "\n",
    "Thanks"
   ]
  },
  {
   "cell_type": "code",
   "execution_count": 0,
   "metadata": {
    "application/vnd.databricks.v1+cell": {
     "cellMetadata": {},
     "inputWidgets": {},
     "nuid": "3609b83b-04a5-444a-ae17-71630c8481f0",
     "showTitle": false,
     "tableResultSettingsMap": {},
     "title": ""
    }
   },
   "outputs": [],
   "source": [
    "# overwrite previous transactions df\n",
    "\n",
    "transactions = pd.read_csv(\"../retail/transactions.csv\", parse_dates=[\"date\"])"
   ]
  },
  {
   "cell_type": "code",
   "execution_count": 0,
   "metadata": {
    "application/vnd.databricks.v1+cell": {
     "cellMetadata": {},
     "inputWidgets": {},
     "nuid": "4f308fe8-409d-450d-9483-588b8932cedd",
     "showTitle": false,
     "tableResultSettingsMap": {},
     "title": ""
    }
   },
   "outputs": [],
   "source": [
    "transactions.tail()"
   ]
  },
  {
   "cell_type": "code",
   "execution_count": 0,
   "metadata": {
    "application/vnd.databricks.v1+cell": {
     "cellMetadata": {},
     "inputWidgets": {},
     "nuid": "da440850-8d51-42ad-9bbe-13fd12a7588d",
     "showTitle": false,
     "tableResultSettingsMap": {},
     "title": ""
    }
   },
   "outputs": [],
   "source": [
    "# recreate columns from assignment 1 using assign\n",
    "\n",
    "transactions = transactions.assign(\n",
    "    year=transactions[\"date\"].dt.year,\n",
    "    month=transactions[\"date\"].dt.month,\n",
    "    day_of_week=transactions[\"date\"].dt.dayofweek,\n",
    "    time_to_last_date=transactions[\"date\"].max() - transactions[\"date\"],\n",
    ")\n",
    "\n",
    "transactions.head()"
   ]
  },
  {
   "cell_type": "code",
   "execution_count": 0,
   "metadata": {
    "application/vnd.databricks.v1+cell": {
     "cellMetadata": {},
     "inputWidgets": {},
     "nuid": "3c80d90c-4d5e-4b9f-831e-5c20fa041af3",
     "showTitle": false,
     "tableResultSettingsMap": {},
     "title": ""
    }
   },
   "outputs": [],
   "source": [
    "# Add three weeks to time to last date column\n",
    "# Then divide the timedelta (converted to integer) into integer weeks\n",
    "\n",
    "transactions.assign(\n",
    "    time_to_last_date=pd.to_timedelta(21, unit=\"D\") + transactions[\"time_to_last_date\"],\n",
    "    weeks_to_last_date=(lambda x: x[\"time_to_last_date\"].dt.days / 7),\n",
    ").head()"
   ]
  },
  {
   "cell_type": "markdown",
   "metadata": {
    "application/vnd.databricks.v1+cell": {
     "cellMetadata": {},
     "inputWidgets": {},
     "nuid": "f4099a70-9494-4566-9a5b-7592476acfc4",
     "showTitle": false,
     "tableResultSettingsMap": {},
     "title": ""
    }
   },
   "source": [
    "# Assignment 3: Missing Time Series Data\n",
    "\n",
    "Take a look at the mean value for the oil price using forward fill, backfill, and interpolation. Are they very different?\n",
    "\n",
    "Then, plot the series with forward fill for:\n",
    " * The year 2014.\n",
    " * The month of December 2014.\n",
    " * The days from December 1st to December 15th, 2014.\n"
   ]
  },
  {
   "cell_type": "code",
   "execution_count": 0,
   "metadata": {
    "application/vnd.databricks.v1+cell": {
     "cellMetadata": {},
     "inputWidgets": {},
     "nuid": "4fe27c0c-b2fb-40fd-b86a-f13741d39fc4",
     "showTitle": false,
     "tableResultSettingsMap": {},
     "title": ""
    }
   },
   "outputs": [],
   "source": [
    "# Read in oil csv with date as index (and converted to datetime64)\n",
    "oil = pd.read_csv(\"../retail/oil.csv\", \n",
    "                  index_col=\"date\", \n",
    "                  parse_dates=True)"
   ]
  },
  {
   "cell_type": "code",
   "execution_count": 0,
   "metadata": {
    "application/vnd.databricks.v1+cell": {
     "cellMetadata": {},
     "inputWidgets": {},
     "nuid": "43978378-9f61-4ada-8c21-295dbed6dfa7",
     "showTitle": false,
     "tableResultSettingsMap": {},
     "title": ""
    }
   },
   "outputs": [],
   "source": [
    "# This is a synonym for datetime64\n",
    "\n",
    "oil.index.dtype"
   ]
  },
  {
   "cell_type": "code",
   "execution_count": 0,
   "metadata": {
    "application/vnd.databricks.v1+cell": {
     "cellMetadata": {},
     "inputWidgets": {},
     "nuid": "19a9e4c4-0431-46f2-a91f-ca9e5196f74c",
     "showTitle": false,
     "tableResultSettingsMap": {},
     "title": ""
    }
   },
   "outputs": [],
   "source": [
    "# mean of original series\n",
    "\n",
    "oil.mean()"
   ]
  },
  {
   "cell_type": "code",
   "execution_count": 0,
   "metadata": {
    "application/vnd.databricks.v1+cell": {
     "cellMetadata": {},
     "inputWidgets": {},
     "nuid": "108d1bf7-8c4e-4f74-a61c-ed58f0fc550b",
     "showTitle": false,
     "tableResultSettingsMap": {},
     "title": ""
    }
   },
   "outputs": [],
   "source": [
    "# original plot\n",
    "\n",
    "oil.plot()"
   ]
  },
  {
   "cell_type": "code",
   "execution_count": 0,
   "metadata": {
    "application/vnd.databricks.v1+cell": {
     "cellMetadata": {},
     "inputWidgets": {},
     "nuid": "0ef0939d-177b-4af9-9674-c1041ae2969b",
     "showTitle": false,
     "tableResultSettingsMap": {},
     "title": ""
    }
   },
   "outputs": [],
   "source": [
    "# mean of each type of missing value handling for time series\n",
    "\n",
    "print(oil.ffill().mean(), \n",
    "      oil.bfill().mean(),\n",
    "      oil.interpolate().mean()\n",
    "     )"
   ]
  },
  {
   "cell_type": "code",
   "execution_count": 0,
   "metadata": {
    "application/vnd.databricks.v1+cell": {
     "cellMetadata": {},
     "inputWidgets": {},
     "nuid": "da9dcba6-9b36-45ba-8532-5f8e2c48c9f3",
     "showTitle": false,
     "tableResultSettingsMap": {},
     "title": ""
    }
   },
   "outputs": [],
   "source": [
    "# Filter to 2014 then plot forward filled Series\n",
    "\n",
    "oil.loc[\"2014\"].ffill().plot()"
   ]
  },
  {
   "cell_type": "code",
   "execution_count": 0,
   "metadata": {
    "application/vnd.databricks.v1+cell": {
     "cellMetadata": {},
     "inputWidgets": {},
     "nuid": "ad9cad17-8270-40d5-9c42-fc8d1c41aa41",
     "showTitle": false,
     "tableResultSettingsMap": {},
     "title": ""
    }
   },
   "outputs": [],
   "source": [
    "# Filter to December 2014 then plot forward filled Series\n",
    "\n",
    "oil.loc[\"2014-12\"].ffill().plot()"
   ]
  },
  {
   "cell_type": "code",
   "execution_count": 0,
   "metadata": {
    "application/vnd.databricks.v1+cell": {
     "cellMetadata": {},
     "inputWidgets": {},
     "nuid": "f5cd3bee-6f63-482c-8353-e12475597033",
     "showTitle": false,
     "tableResultSettingsMap": {},
     "title": ""
    }
   },
   "outputs": [],
   "source": [
    "# Filter to first two weeks of December 2014 then plot forward filled Series\n",
    "\n",
    "oil.loc[\"2014-12-01\":\"2014-12-15\"].ffill().plot()"
   ]
  },
  {
   "cell_type": "markdown",
   "metadata": {
    "application/vnd.databricks.v1+cell": {
     "cellMetadata": {},
     "inputWidgets": {},
     "nuid": "a8095f03-0d61-4767-8c4e-3e6d25d5fe3a",
     "showTitle": false,
     "tableResultSettingsMap": {},
     "title": ""
    }
   },
   "source": [
    "# Assignment 4: Shift and Diff\n",
    "\n",
    "Hello,\n",
    "I’m looking into a few different year over year trends related to changes made at store 47.\n",
    "\n",
    "Can you plot the sum of monthly of transactions in year 2015 vs the sum of monthly transactions in the year prior for store 47?\n",
    "\n",
    "Make sure to group your DataFrame by year AND month!\n",
    "\n",
    "Thanks"
   ]
  },
  {
   "cell_type": "code",
   "execution_count": 0,
   "metadata": {
    "application/vnd.databricks.v1+cell": {
     "cellMetadata": {},
     "inputWidgets": {},
     "nuid": "f673197c-dc55-49b7-9687-e6a30dd9d02d",
     "showTitle": false,
     "tableResultSettingsMap": {},
     "title": ""
    }
   },
   "outputs": [],
   "source": [
    "# filter df to store 47, 'drop' store_nbr column via loc\n",
    "transactions_47 = transactions.loc[transactions[\"store_nbr\"] == 47, [\"date\", \"transactions\"]]\n",
    "\n",
    "# Calculate sum of sales by year and month\n",
    "transactions_47 = (transactions_47\n",
    "                   .groupby([transactions[\"date\"].dt.year, transactions[\"date\"].dt.month])\n",
    "                   .sum())\n",
    "\n",
    "# Calculate a 'year_prior' column by shiftly monthly sales series forward by 12 rows (months)\n",
    "transactions_47[\"year_prior\"] = transactions_47[\"transactions\"].shift(12)\n",
    "\n",
    "# Filter to 2015 and plot\n",
    "transactions_47.loc[2015].plot();"
   ]
  },
  {
   "cell_type": "markdown",
   "metadata": {
    "application/vnd.databricks.v1+cell": {
     "cellMetadata": {},
     "inputWidgets": {},
     "nuid": "5e66a394-3f34-4a64-9040-1b9f280fdefe",
     "showTitle": false,
     "tableResultSettingsMap": {},
     "title": ""
    }
   },
   "source": [
    "# Assignment 5: Resampling Time Series\n",
    "\n",
    "Plot the monthly and yearly average oil prices."
   ]
  },
  {
   "cell_type": "code",
   "execution_count": 0,
   "metadata": {
    "application/vnd.databricks.v1+cell": {
     "cellMetadata": {},
     "inputWidgets": {},
     "nuid": "040ecb7b-e780-466d-b02b-354e6e8ed488",
     "showTitle": false,
     "tableResultSettingsMap": {},
     "title": ""
    }
   },
   "outputs": [],
   "source": [
    "oil.head()"
   ]
  },
  {
   "cell_type": "code",
   "execution_count": 0,
   "metadata": {
    "application/vnd.databricks.v1+cell": {
     "cellMetadata": {},
     "inputWidgets": {},
     "nuid": "19d64ce3-dd4f-4f41-972d-dd04284f4a66",
     "showTitle": false,
     "tableResultSettingsMap": {},
     "title": ""
    }
   },
   "outputs": [],
   "source": [
    "# Monthly average oil price\n",
    "\n",
    "oil.resample(\"Y\").mean().plot()"
   ]
  },
  {
   "cell_type": "code",
   "execution_count": 0,
   "metadata": {
    "application/vnd.databricks.v1+cell": {
     "cellMetadata": {},
     "inputWidgets": {},
     "nuid": "1d1443cc-ccdb-497a-a809-32292df832ac",
     "showTitle": false,
     "tableResultSettingsMap": {},
     "title": ""
    }
   },
   "outputs": [],
   "source": [
    "# A loop to create various time period averages and plot them\n",
    "\n",
    "for period in [\"D\", \"W\", \"M\", \"A\"]:\n",
    "    oil.resample(period).mean().plot()"
   ]
  },
  {
   "cell_type": "markdown",
   "metadata": {
    "application/vnd.databricks.v1+cell": {
     "cellMetadata": {},
     "inputWidgets": {},
     "nuid": "a477969b-15be-4eec-bd94-6c21a98f88ad",
     "showTitle": false,
     "tableResultSettingsMap": {},
     "title": ""
    }
   },
   "source": [
    "# Assignment 6: Rolling Averages\n",
    "\n",
    "Plot the 90-day moving average for transactions for store 47.\n",
    "\n",
    "This will help remove some of the noise from our series.\n",
    "\n",
    "Thanks!\n"
   ]
  },
  {
   "cell_type": "code",
   "execution_count": 0,
   "metadata": {
    "application/vnd.databricks.v1+cell": {
     "cellMetadata": {},
     "inputWidgets": {},
     "nuid": "8b95d98c-0bf7-4ec6-8c4c-9cf652532133",
     "showTitle": false,
     "tableResultSettingsMap": {},
     "title": ""
    }
   },
   "outputs": [],
   "source": [
    "# recreate transactions47 with date as index \n",
    "\n",
    "transactions_47 = (transactions\n",
    "                   .loc[transactions[\"store_nbr\"]==47, [\"date\", \"transactions\"]]\n",
    "                   .set_index(\"date\"))\n",
    "\n",
    "transactions_47.head()"
   ]
  },
  {
   "cell_type": "code",
   "execution_count": 0,
   "metadata": {
    "application/vnd.databricks.v1+cell": {
     "cellMetadata": {},
     "inputWidgets": {},
     "nuid": "3b302058-7d56-4d8c-8fa3-ade1fcd3e3af",
     "showTitle": false,
     "tableResultSettingsMap": {},
     "title": ""
    }
   },
   "outputs": [],
   "source": [
    "# Create 90 day rolling average column, drop original transactions column and plot.\n",
    "\n",
    "(transactions_47\n",
    " .assign(transactions_rolling_avg_90 = transactions_47.rolling(90).mean())\n",
    " .drop([\"transactions\"], axis=1)\n",
    " .plot()\n",
    ")"
   ]
  },
  {
   "cell_type": "code",
   "execution_count": 0,
   "metadata": {
    "application/vnd.databricks.v1+cell": {
     "cellMetadata": {},
     "inputWidgets": {},
     "nuid": "3419c531-6941-40d7-9ba7-2c378d9c6a4f",
     "showTitle": false,
     "tableResultSettingsMap": {},
     "title": ""
    }
   },
   "outputs": [],
   "source": [
    "# original daily series for comparison\n",
    "\n",
    "transactions_47.plot()"
   ]
  },
  {
   "cell_type": "code",
   "execution_count": 0,
   "metadata": {
    "application/vnd.databricks.v1+cell": {
     "cellMetadata": {},
     "inputWidgets": {},
     "nuid": "d7f0207d-1d62-439c-8226-b5afd09313fe",
     "showTitle": false,
     "tableResultSettingsMap": {},
     "title": ""
    }
   },
   "outputs": [],
   "source": []
  }
 ],
 "metadata": {
  "application/vnd.databricks.v1+notebook": {
   "dashboards": [],
   "environmentMetadata": null,
   "language": "python",
   "notebookMetadata": {},
   "notebookName": "section07_time_series_solutions",
   "widgets": {}
  },
  "kernelspec": {
   "display_name": "Python 3 (ipykernel)",
   "language": "python",
   "name": "python3"
  },
  "language_info": {
   "name": "python"
  }
 },
 "nbformat": 4,
 "nbformat_minor": 0
}
