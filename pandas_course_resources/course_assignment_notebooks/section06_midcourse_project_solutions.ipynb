{
 "cells": [
  {
   "cell_type": "code",
   "execution_count": 0,
   "metadata": {
    "application/vnd.databricks.v1+cell": {
     "cellMetadata": {},
     "inputWidgets": {},
     "nuid": "6a618a6f-ec3d-4fe5-af2f-a5bdfc6ca921",
     "showTitle": false,
     "tableResultSettingsMap": {},
     "title": ""
    }
   },
   "outputs": [],
   "source": [
    "import pandas as pd\n",
    "import numpy as np"
   ]
  },
  {
   "cell_type": "markdown",
   "metadata": {
    "application/vnd.databricks.v1+cell": {
     "cellMetadata": {},
     "inputWidgets": {},
     "nuid": "21abaff9-2d28-4b0e-84dc-cadce45e0c7e",
     "showTitle": false,
     "tableResultSettingsMap": {},
     "title": ""
    }
   },
   "source": [
    "# Mid-Course Project\n",
    "\n",
    "Hi There, and thanks for your help. If you're reading this you've been selected to help on a secret initiative.\n",
    "\n",
    "You will be helping us analyze a portion of data from a company we want to acquire, which could greatly improve the fortunes of Maven Mega Mart.\n",
    "\n",
    "We'll be working with `project_transactions.csv` and briefly take a look at `product.csv`.\n",
    "\n",
    "First, read in the transactions data and explore it.\n",
    "\n",
    "* Take a look at the raw data, the datatypes, and cast `DAY`, `QUANTITY`, `STORE_ID`, and `WEEK_NO` columns to the smallest appropriate datatype. Check the memory reduction by doing so.\n",
    "* Is there any missing data?\n",
    "* How many unique households and products are there in the data? The fields household_key and Product_ID will help here."
   ]
  },
  {
   "cell_type": "code",
   "execution_count": 0,
   "metadata": {
    "application/vnd.databricks.v1+cell": {
     "cellMetadata": {},
     "inputWidgets": {},
     "nuid": "6b1bfec0-dbcb-4055-bb52-d8a8d1635d95",
     "showTitle": false,
     "tableResultSettingsMap": {},
     "title": ""
    }
   },
   "outputs": [],
   "source": [
    "transactions = pd.read_csv(\"../project_data/project_transactions.csv\",\n",
    "                          dtype={\"DAY\": \"Int16\",\n",
    "                                 \"QUANTITY\": \"Int32\",\n",
    "                                 \"STORE_ID\": \"Int32\",\n",
    "                                 \"WEEK_NO\": \"Int8\",}\n",
    "                          )"
   ]
  },
  {
   "cell_type": "code",
   "execution_count": 0,
   "metadata": {
    "application/vnd.databricks.v1+cell": {
     "cellMetadata": {},
     "inputWidgets": {},
     "nuid": "ccbaa2c0-50fa-44b3-85fb-95524a566d99",
     "showTitle": false,
     "tableResultSettingsMap": {},
     "title": ""
    }
   },
   "outputs": [],
   "source": [
    "transactions.head()"
   ]
  },
  {
   "cell_type": "code",
   "execution_count": 0,
   "metadata": {
    "application/vnd.databricks.v1+cell": {
     "cellMetadata": {},
     "inputWidgets": {},
     "nuid": "a1572935-9b4f-4f9e-a6bc-fe56066376b7",
     "showTitle": false,
     "tableResultSettingsMap": {},
     "title": ""
    }
   },
   "outputs": [],
   "source": [
    "# Reduced memory usage by ~35MB after converting to correct dtypes\n",
    "\n",
    "transactions.info(memory_usage=\"deep\")"
   ]
  },
  {
   "cell_type": "code",
   "execution_count": 0,
   "metadata": {
    "application/vnd.databricks.v1+cell": {
     "cellMetadata": {},
     "inputWidgets": {},
     "nuid": "e89b704c-cf09-4477-a8e0-8f4ac970b6cb",
     "showTitle": false,
     "tableResultSettingsMap": {},
     "title": ""
    }
   },
   "outputs": [],
   "source": [
    "# Use to identify which values can be downcast\n",
    "\n",
    "transactions.describe().round()"
   ]
  },
  {
   "cell_type": "code",
   "execution_count": 0,
   "metadata": {
    "application/vnd.databricks.v1+cell": {
     "cellMetadata": {},
     "inputWidgets": {},
     "nuid": "3a5d386f-ca04-4d71-a077-19e6d2ef35c7",
     "showTitle": false,
     "tableResultSettingsMap": {},
     "title": ""
    }
   },
   "outputs": [],
   "source": [
    "# Check missing value counts\n",
    "\n",
    "transactions.isna().sum()"
   ]
  },
  {
   "cell_type": "code",
   "execution_count": 0,
   "metadata": {
    "application/vnd.databricks.v1+cell": {
     "cellMetadata": {},
     "inputWidgets": {},
     "nuid": "ffdcef56-5e2e-4039-9a99-2bde4322b732",
     "showTitle": false,
     "tableResultSettingsMap": {},
     "title": ""
    }
   },
   "outputs": [],
   "source": [
    "# Calculate unique households in dataset with nunique (describe could also be used)\n",
    "\n",
    "transactions[\"household_key\"].nunique()"
   ]
  },
  {
   "cell_type": "code",
   "execution_count": 0,
   "metadata": {
    "application/vnd.databricks.v1+cell": {
     "cellMetadata": {},
     "inputWidgets": {},
     "nuid": "2f1ef4c5-8dc4-42ac-bc62-dead403e6659",
     "showTitle": false,
     "tableResultSettingsMap": {},
     "title": ""
    },
    "scrolled": true
   },
   "outputs": [],
   "source": [
    "# Calculate unique product_ids in dataset with nunique\n",
    "\n",
    "transactions[\"PRODUCT_ID\"].nunique()"
   ]
  },
  {
   "cell_type": "markdown",
   "metadata": {
    "application/vnd.databricks.v1+cell": {
     "cellMetadata": {},
     "inputWidgets": {},
     "nuid": "ef25f0b1-a7d5-440a-87e1-18f493390555",
     "showTitle": false,
     "tableResultSettingsMap": {},
     "title": ""
    }
   },
   "source": [
    "## Column Creation\n",
    "\n",
    "Create two columns:\n",
    "\n",
    "* A column that captures the `total_discount` by row (sum of `RETAIL_DISC`, `COUPON_DISC`)\n",
    "* The percentage disount (`total_discount` / `SALES_VALUE`). Make sure this is positive (try `.abs()`).\n",
    "* If the percentage discount is greater than 1, set it equal to 1. If it is less than one, set it to 0. \n",
    "* Drop the individual discount columns (`RETAIL_DISC`, `COUPON_DISC`, `COUPON_MATCH_DISC`).\n",
    "\n",
    "Feel free to overwrite the existing transaction DataFrame after making the modifications above."
   ]
  },
  {
   "cell_type": "code",
   "execution_count": 0,
   "metadata": {
    "application/vnd.databricks.v1+cell": {
     "cellMetadata": {},
     "inputWidgets": {},
     "nuid": "bf54d478-04c0-4725-b556-a640e088e6a7",
     "showTitle": false,
     "tableResultSettingsMap": {},
     "title": ""
    }
   },
   "outputs": [],
   "source": [
    "# create a discount sum column and a percentage discount column\n",
    "transactions = (\n",
    "    transactions\n",
    "    .assign(total_discount = transactions[\"RETAIL_DISC\"] + transactions[\"COUPON_DISC\"],\n",
    "            percentage_discount = (lambda x: (x[\"total_discount\"] / x[\"SALES_VALUE\"]).abs()))\n",
    "    .drop([\"RETAIL_DISC\", \"COUPON_DISC\", \"COUPON_MATCH_DISC\"], axis=1))\n",
    "\n",
    "\n",
    "# Use where to cap values above 1 at 1 and below 0 at 0. Other methods could be used here as well.\n",
    "transactions[\"percentage_discount\"] = (transactions[\"percentage_discount\"]\n",
    "                                       .where(transactions[\"percentage_discount\"] < 1, 1.0)\n",
    "                                       .where(transactions[\"percentage_discount\"] > 0, 0)\n",
    "                                      )\n",
    "\n",
    "transactions.head()"
   ]
  },
  {
   "cell_type": "markdown",
   "metadata": {
    "application/vnd.databricks.v1+cell": {
     "cellMetadata": {},
     "inputWidgets": {},
     "nuid": "1a8cb983-45f1-429c-94c0-eb651b364c05",
     "showTitle": false,
     "tableResultSettingsMap": {},
     "title": ""
    }
   },
   "source": [
    "## Overall Statistics\n",
    "\n",
    "Calculate:\n",
    "\n",
    "* The total sales (sum of `SALES_VALUE`), \n",
    "* Total discount (sum of `total_discount`)\n",
    "* Overall percentage discount (sum of total_discount / sum of sales value)\n",
    "* Total quantity sold (sum of `QUANTITY`).\n",
    "* Max quantity sold in a single row. Inspect the row as well. Does this have a high discount percentage?\n",
    "* Total sales value per basket (sum of sales value / nunique basket_id).\n",
    "* Total sales value per household (sum of sales value / nunique household_key). \n",
    "* What was the highest quantiy sold for a single item in a single row?"
   ]
  },
  {
   "cell_type": "code",
   "execution_count": 0,
   "metadata": {
    "application/vnd.databricks.v1+cell": {
     "cellMetadata": {},
     "inputWidgets": {},
     "nuid": "aa7b0eb5-1814-4f16-b9bb-fcca8a9fa199",
     "showTitle": false,
     "tableResultSettingsMap": {},
     "title": ""
    }
   },
   "outputs": [],
   "source": [
    "# Total Sales Value\n",
    "\n",
    "transactions['SALES_VALUE'].sum()"
   ]
  },
  {
   "cell_type": "code",
   "execution_count": 0,
   "metadata": {
    "application/vnd.databricks.v1+cell": {
     "cellMetadata": {},
     "inputWidgets": {},
     "nuid": "d4405088-6a08-4bd0-a4e3-95c32a63be07",
     "showTitle": false,
     "tableResultSettingsMap": {},
     "title": ""
    }
   },
   "outputs": [],
   "source": [
    "# Total Discount\n",
    "\n",
    "transactions['total_discount'].sum()"
   ]
  },
  {
   "cell_type": "code",
   "execution_count": 0,
   "metadata": {
    "application/vnd.databricks.v1+cell": {
     "cellMetadata": {},
     "inputWidgets": {},
     "nuid": "724187d8-3a55-48e1-a897-e3b635099b1f",
     "showTitle": false,
     "tableResultSettingsMap": {},
     "title": ""
    }
   },
   "outputs": [],
   "source": [
    "# Overall Percent Discount\n",
    "\n",
    "transactions['total_discount'].sum() / transactions['SALES_VALUE'].sum()"
   ]
  },
  {
   "cell_type": "code",
   "execution_count": 0,
   "metadata": {
    "application/vnd.databricks.v1+cell": {
     "cellMetadata": {},
     "inputWidgets": {},
     "nuid": "722b5d2e-8b75-403f-b898-cbd545345b7e",
     "showTitle": false,
     "tableResultSettingsMap": {},
     "title": ""
    }
   },
   "outputs": [],
   "source": [
    "# Average of pct_discount column\n",
    "\n",
    "transactions[\"percentage_discount\"].mean()"
   ]
  },
  {
   "cell_type": "code",
   "execution_count": 0,
   "metadata": {
    "application/vnd.databricks.v1+cell": {
     "cellMetadata": {},
     "inputWidgets": {},
     "nuid": "30a03c36-f52b-4bb8-8b6b-0358e7f9ba51",
     "showTitle": false,
     "tableResultSettingsMap": {},
     "title": ""
    }
   },
   "outputs": [],
   "source": [
    "# Total Quantity Sold\n",
    "\n",
    "transactions['QUANTITY'].sum()"
   ]
  },
  {
   "cell_type": "code",
   "execution_count": 0,
   "metadata": {
    "application/vnd.databricks.v1+cell": {
     "cellMetadata": {},
     "inputWidgets": {},
     "nuid": "36e6068b-a017-49fd-8adc-37727bb94db6",
     "showTitle": false,
     "tableResultSettingsMap": {},
     "title": ""
    }
   },
   "outputs": [],
   "source": [
    "# Max quantity in single row\n",
    "\n",
    "transactions[\"QUANTITY\"].max()"
   ]
  },
  {
   "cell_type": "code",
   "execution_count": 0,
   "metadata": {
    "application/vnd.databricks.v1+cell": {
     "cellMetadata": {},
     "inputWidgets": {},
     "nuid": "d90e2664-76fc-49f2-b8de-bb34093d362e",
     "showTitle": false,
     "tableResultSettingsMap": {},
     "title": ""
    }
   },
   "outputs": [],
   "source": [
    "# Use to grab row with max value - discount rate is lower than average\n",
    "\n",
    "transactions.loc[transactions[\"QUANTITY\"].argmax()]"
   ]
  },
  {
   "cell_type": "code",
   "execution_count": 0,
   "metadata": {
    "application/vnd.databricks.v1+cell": {
     "cellMetadata": {},
     "inputWidgets": {},
     "nuid": "16e5ade5-a0c2-4471-bc65-8aeace9e14e4",
     "showTitle": false,
     "tableResultSettingsMap": {},
     "title": ""
    }
   },
   "outputs": [],
   "source": [
    "# Sales value per transaction/basket\n",
    "\n",
    "transactions['SALES_VALUE'].sum() / transactions['BASKET_ID'].nunique()"
   ]
  },
  {
   "cell_type": "code",
   "execution_count": 0,
   "metadata": {
    "application/vnd.databricks.v1+cell": {
     "cellMetadata": {},
     "inputWidgets": {},
     "nuid": "e090a6e3-e579-4de6-9e14-3f1e3c815cc2",
     "showTitle": false,
     "tableResultSettingsMap": {},
     "title": ""
    }
   },
   "outputs": [],
   "source": [
    "# Sales value per household\n",
    "\n",
    "transactions['SALES_VALUE'].sum() / transactions['household_key'].nunique()"
   ]
  },
  {
   "cell_type": "markdown",
   "metadata": {
    "application/vnd.databricks.v1+cell": {
     "cellMetadata": {},
     "inputWidgets": {},
     "nuid": "68335c05-4693-4ee6-a179-a84626db226d",
     "showTitle": false,
     "tableResultSettingsMap": {},
     "title": ""
    }
   },
   "source": [
    "## Household Analysis\n",
    "\n",
    "* Plot the distribution of total sales value purchased at the household level. \n",
    "* What were the top 10 households by quantity purchased?\n",
    "* What were the top 10 households by sales value?\n",
    "* Plot the total sales value for our top 10 households by value, ordered from highest to lowest.\n"
   ]
  },
  {
   "cell_type": "code",
   "execution_count": 0,
   "metadata": {
    "application/vnd.databricks.v1+cell": {
     "cellMetadata": {},
     "inputWidgets": {},
     "nuid": "79461f1d-cb3f-4e31-ab54-d5381a761e7e",
     "showTitle": false,
     "tableResultSettingsMap": {},
     "title": ""
    }
   },
   "outputs": [],
   "source": [
    "# plot distribution of households by total sales value\n",
    "# First groupby household and calculate sum of sales\n",
    "# then plot with a histogram\n",
    "\n",
    "(transactions\n",
    " .groupby(\"household_key\")\n",
    " .agg({'SALES_VALUE': 'sum'})\n",
    " .plot.hist())"
   ]
  },
  {
   "cell_type": "code",
   "execution_count": 0,
   "metadata": {
    "application/vnd.databricks.v1+cell": {
     "cellMetadata": {},
     "inputWidgets": {},
     "nuid": "50fbf062-49c8-40bf-b90a-9aa3ed8b310a",
     "showTitle": false,
     "tableResultSettingsMap": {},
     "title": ""
    }
   },
   "outputs": [],
   "source": [
    "# store top 10 households by total value and quantity\n",
    "# groupby household_key, calculate sum of relevant columns by household\n",
    "# sort both by relevant metric in descending order, and grab top 10 rows\n",
    "\n",
    "top10_value = (transactions\n",
    " .groupby(\"household_key\")\n",
    " .agg({'SALES_VALUE': 'sum'})\n",
    " .sort_values(\"SALES_VALUE\", ascending=False)\n",
    " .iloc[:10])\n",
    "\n",
    "top10_quant = (transactions\n",
    " .groupby(\"household_key\")\n",
    " .agg({\"QUANTITY\": \"sum\"})\n",
    " .sort_values(\"QUANTITY\", ascending=False)\n",
    " .iloc[:10])"
   ]
  },
  {
   "cell_type": "code",
   "execution_count": 0,
   "metadata": {
    "application/vnd.databricks.v1+cell": {
     "cellMetadata": {},
     "inputWidgets": {},
     "nuid": "1a93e134-145a-4b9f-aba9-63b58ed516ae",
     "showTitle": false,
     "tableResultSettingsMap": {},
     "title": ""
    }
   },
   "outputs": [],
   "source": [
    "top10_value"
   ]
  },
  {
   "cell_type": "code",
   "execution_count": 0,
   "metadata": {
    "application/vnd.databricks.v1+cell": {
     "cellMetadata": {},
     "inputWidgets": {},
     "nuid": "4370633a-57c8-487d-bbd6-a90b059041f3",
     "showTitle": false,
     "tableResultSettingsMap": {},
     "title": ""
    }
   },
   "outputs": [],
   "source": [
    "top10_quant"
   ]
  },
  {
   "cell_type": "code",
   "execution_count": 0,
   "metadata": {
    "application/vnd.databricks.v1+cell": {
     "cellMetadata": {},
     "inputWidgets": {},
     "nuid": "2a07bc24-2d1b-4b46-9e5f-4467208cf523",
     "showTitle": false,
     "tableResultSettingsMap": {},
     "title": ""
    }
   },
   "outputs": [],
   "source": [
    "# Use multiple aggregation to create both in a single table an option\n",
    "# this here is just to use to compare to chart\n",
    "\n",
    "(transactions\n",
    " .groupby(\"household_key\")\n",
    " .agg({'SALES_VALUE': 'sum','QUANTITY': 'sum'})\n",
    " .sort_values(\"SALES_VALUE\", ascending=False)\n",
    " .loc[:, \"SALES_VALUE\"]\n",
    " .describe()\n",
    ")"
   ]
  },
  {
   "cell_type": "code",
   "execution_count": 0,
   "metadata": {
    "application/vnd.databricks.v1+cell": {
     "cellMetadata": {},
     "inputWidgets": {},
     "nuid": "9fa524cb-df28-4859-b973-4b1b62f2d63f",
     "showTitle": false,
     "tableResultSettingsMap": {},
     "title": ""
    }
   },
   "outputs": [],
   "source": [
    "# top 10 households by sales value plotted with a bar plot\n",
    "\n",
    "top10_value[\"SALES_VALUE\"].plot.bar()"
   ]
  },
  {
   "cell_type": "markdown",
   "metadata": {
    "application/vnd.databricks.v1+cell": {
     "cellMetadata": {},
     "inputWidgets": {},
     "nuid": "5f9886c3-308e-41a8-9602-99d46b6d27c3",
     "showTitle": false,
     "tableResultSettingsMap": {},
     "title": ""
    }
   },
   "source": [
    "## Product Analysis\n",
    "\n",
    "* Which products had the most sales by sales_value? Plot  a horizontal bar chart.\n",
    "* Did the top selling items have a higher than average discount rate?\n",
    "* Look up the names of the  top 10 products by sales in the `products.csv` dataset.\n",
    "* What was the name most common `PRODUCT_ID` among rows with the households in our top 10 households by sales value?\n",
    "* Look up the product name of the item that had the highest quantity sold in a single row."
   ]
  },
  {
   "cell_type": "code",
   "execution_count": 0,
   "metadata": {
    "application/vnd.databricks.v1+cell": {
     "cellMetadata": {},
     "inputWidgets": {},
     "nuid": "d936c7a5-8ff0-4bbf-afad-386edec96c49",
     "showTitle": false,
     "tableResultSettingsMap": {},
     "title": ""
    }
   },
   "outputs": [],
   "source": [
    "# Create top 10 products by sales df\n",
    "# group by PRODUCT_ID and sum sales value by product\n",
    "# Sort in descending order and grab top 10 rows\n",
    "\n",
    "top10_products = (transactions\n",
    "                 .groupby([\"PRODUCT_ID\"])\n",
    "                 .agg({\"SALES_VALUE\": \"sum\"})\n",
    "                 .sort_values(\"SALES_VALUE\", ascending=False)\n",
    "                 .iloc[:10]\n",
    ")"
   ]
  },
  {
   "cell_type": "code",
   "execution_count": 0,
   "metadata": {
    "application/vnd.databricks.v1+cell": {
     "cellMetadata": {},
     "inputWidgets": {},
     "nuid": "9556c55e-10ec-40a7-9286-4c78ee26b05e",
     "showTitle": false,
     "tableResultSettingsMap": {},
     "title": ""
    }
   },
   "outputs": [],
   "source": [
    "# plot top 10 products by sale value\n",
    "\n",
    "top10_products[\"SALES_VALUE\"].sort_values().plot.barh()"
   ]
  },
  {
   "cell_type": "code",
   "execution_count": 0,
   "metadata": {
    "application/vnd.databricks.v1+cell": {
     "cellMetadata": {},
     "inputWidgets": {},
     "nuid": "05a57c2e-85ee-45f2-be2d-724200dbc8b3",
     "showTitle": false,
     "tableResultSettingsMap": {},
     "title": ""
    }
   },
   "outputs": [],
   "source": [
    "# Calculate the total discount for top 10 products\n",
    "# Divide that by sales value for top 10 products\n",
    "\n",
    "((transactions\n",
    " .query(\"PRODUCT_ID in @top10_products.index\")\n",
    " .loc[: ,\"total_discount\"]\n",
    " .sum()) \n",
    "/(transactions\n",
    " .query(\"PRODUCT_ID in @top10_products.index\")\n",
    " .loc[: ,\"SALES_VALUE\"]\n",
    "  .sum())\n",
    ")"
   ]
  },
  {
   "cell_type": "code",
   "execution_count": 0,
   "metadata": {
    "application/vnd.databricks.v1+cell": {
     "cellMetadata": {},
     "inputWidgets": {},
     "nuid": "8a7d3ab5-ce5d-43db-9e46-641c7b41d68f",
     "showTitle": false,
     "tableResultSettingsMap": {},
     "title": ""
    }
   },
   "outputs": [],
   "source": [
    "# read in products data\n",
    "\n",
    "products = pd.read_csv(\"../project_data/product.csv\")\n",
    "\n",
    "products.head()"
   ]
  },
  {
   "cell_type": "code",
   "execution_count": 0,
   "metadata": {
    "application/vnd.databricks.v1+cell": {
     "cellMetadata": {},
     "inputWidgets": {},
     "nuid": "64a22daa-e0fd-47c6-a940-26be187b2542",
     "showTitle": false,
     "tableResultSettingsMap": {},
     "title": ""
    }
   },
   "outputs": [],
   "source": [
    "# Look up top 10 products for households in top10_value table\n",
    "# Use query to reference index of top10_value to filter to relevant households\n",
    "# Use value counts to get counts by product_id (this will be order in descending order)\n",
    "# Then grab the top 10 products with iloc and extract the index to get product numbers\n",
    "\n",
    "top_hh_products = (transactions\n",
    "                   .query(\"household_key in @top10_value.index\")\n",
    "                   .loc[:, \"PRODUCT_ID\"]\n",
    "                   .value_counts()\n",
    "                   .iloc[:10]\n",
    "                   .index\n",
    "                  )\n",
    "\n",
    "top_hh_products"
   ]
  },
  {
   "cell_type": "code",
   "execution_count": 0,
   "metadata": {
    "application/vnd.databricks.v1+cell": {
     "cellMetadata": {},
     "inputWidgets": {},
     "nuid": "18a4f5b8-b520-4f55-b3d7-d2f7b915f34c",
     "showTitle": false,
     "tableResultSettingsMap": {},
     "title": ""
    }
   },
   "outputs": [],
   "source": [
    "# Filter product table to products from prior cell\n",
    "products.query(\"PRODUCT_ID in @top_hh_products\")"
   ]
  },
  {
   "cell_type": "code",
   "execution_count": 0,
   "metadata": {
    "application/vnd.databricks.v1+cell": {
     "cellMetadata": {},
     "inputWidgets": {},
     "nuid": "51ae43f8-20ac-4aba-8f1e-438fb768197e",
     "showTitle": false,
     "tableResultSettingsMap": {},
     "title": ""
    }
   },
   "outputs": [],
   "source": [
    "# Product with highest quantity in a single row\n",
    "\n",
    "products.query(\"PRODUCT_ID == 6534178\")"
   ]
  },
  {
   "cell_type": "code",
   "execution_count": 0,
   "metadata": {
    "application/vnd.databricks.v1+cell": {
     "cellMetadata": {},
     "inputWidgets": {},
     "nuid": "ecdd52d9-5655-4414-b925-aa06478cb80a",
     "showTitle": false,
     "tableResultSettingsMap": {},
     "title": ""
    }
   },
   "outputs": [],
   "source": [
    "# Look up 10 product names for all customers (from first cell)\n",
    "\n",
    "products.query(\"PRODUCT_ID in @top10_products.index\")"
   ]
  },
  {
   "cell_type": "code",
   "execution_count": 0,
   "metadata": {
    "application/vnd.databricks.v1+cell": {
     "cellMetadata": {},
     "inputWidgets": {},
     "nuid": "fc1952f2-6f7d-4b8a-bdd4-3ee1c22e7bee",
     "showTitle": false,
     "tableResultSettingsMap": {},
     "title": ""
    }
   },
   "outputs": [],
   "source": []
  }
 ],
 "metadata": {
  "application/vnd.databricks.v1+notebook": {
   "dashboards": [],
   "environmentMetadata": null,
   "language": "python",
   "notebookMetadata": {},
   "notebookName": "section06_midcourse_project_solutions",
   "widgets": {}
  },
  "kernelspec": {
   "display_name": "Python 3 (ipykernel)",
   "language": "python",
   "name": "python3"
  },
  "language_info": {
   "codemirror_mode": {
    "name": "ipython",
    "version": 3
   },
   "file_extension": ".py",
   "mimetype": "text/x-python",
   "name": "python",
   "nbconvert_exporter": "python",
   "pygments_lexer": "ipython3",
   "version": "3.9.7"
  }
 },
 "nbformat": 4,
 "nbformat_minor": 0
}
